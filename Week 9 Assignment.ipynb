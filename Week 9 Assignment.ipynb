{
 "cells": [
  {
   "cell_type": "code",
   "execution_count": 15,
   "id": "8f2d2007-5b61-450c-8a31-1440fe28649c",
   "metadata": {},
   "outputs": [
    {
     "name": "stdout",
     "output_type": "stream",
     "text": [
      "\n",
      "--- customers_wk9_thurs.csv ---\n",
      "   customer_id first_name last_name  age state  income registration_date  \\\n",
      "0            1       John     Smith   34    CA   75000        2022-01-15   \n",
      "1            2      Sarah   Johnson   28    NY   82000        2022-01-22   \n",
      "2            3    Michael     Brown   45    TX   95000        2022-02-03   \n",
      "3            4      Emily     Davis   31    FL   68000        2022-02-14   \n",
      "4            5      David    Wilson   52    IL  110000        2022-02-28   \n",
      "\n",
      "                     email  \n",
      "0     john.smith@email.com  \n",
      "1  sarah.johnson@email.com  \n",
      "2  michael.brown@email.com  \n",
      "3    emily.davis@email.com  \n",
      "4   david.wilson@email.com  \n",
      "\n",
      "--- products_wk9_thurs.csv ---\n",
      "   product_id                   product_name           category  price  \\\n",
      "0           1  Wireless Bluetooth Headphones        Electronics  79.99   \n",
      "1           2         Organic Cotton T-Shirt           Clothing  24.99   \n",
      "2           3   Stainless Steel Water Bottle      Home & Garden  19.99   \n",
      "3           4          Leather Crossbody Bag        Accessories  89.99   \n",
      "4           5               Yoga Mat Premium  Sports & Outdoors  34.99   \n",
      "\n",
      "  launch_date       brand  \n",
      "0  2021-03-15   AudioTech  \n",
      "1  2021-04-20     EcoWear  \n",
      "2  2021-05-10   HydroLife  \n",
      "3  2021-06-01  StyleCraft  \n",
      "4  2021-06-15     FitZone  \n",
      "\n",
      "--- sales_wk9_thurs.csv ---\n",
      "   sale_id  customer_id  product_id     transaction_date  quantity  \\\n",
      "0        1            1           1  2022-02-10 14:30:00         1   \n",
      "1        2            2           3  2022-02-15 10:15:00         2   \n",
      "2        3            3           5  2022-02-20 16:45:00         1   \n",
      "3        4            4           2  2022-02-25 11:20:00         3   \n",
      "4        5            5           4  2022-03-01 13:10:00         1   \n",
      "\n",
      "   total_amount  \n",
      "0         79.99  \n",
      "1         39.98  \n",
      "2         34.99  \n",
      "3         74.97  \n",
      "4         89.99  \n"
     ]
    }
   ],
   "source": [
    "import pandas as pd\n",
    "import numpy as np\n",
    "import glob\n",
    "\n",
    "#1. Get all CSV file paths from a folder\n",
    "csv_files = glob.glob(\"*.csv\")\n",
    "\n",
    "#2. Create a dictionary of DataFrames\n",
    "dataframes = {file: pd.read_csv(file) for file in csv_files}\n",
    "\n",
    "#3. Display the first few rows of each DataFrame\n",
    "for file, df in dataframes.items():\n",
    "    print(f\"\\n--- {file} ---\")\n",
    "    print(df.head())"
   ]
  },
  {
   "cell_type": "code",
   "execution_count": 2,
   "id": "af41226f-9ed7-4d2a-b326-2d77cb19189b",
   "metadata": {},
   "outputs": [
    {
     "name": "stdout",
     "output_type": "stream",
     "text": [
      "dict_keys(['customers_wk9_thurs.csv', 'products_wk9_thurs.csv', 'sales_wk9_thurs.csv'])\n"
     ]
    }
   ],
   "source": [
    "# See all keys (file names)\n",
    "print(dataframes.keys())"
   ]
  },
  {
   "cell_type": "code",
   "execution_count": 3,
   "id": "f2c95241-4b7e-430e-be06-c108037b675f",
   "metadata": {},
   "outputs": [
    {
     "name": "stdout",
     "output_type": "stream",
     "text": [
      "   customer_id first_name last_name  age state  income registration_date  \\\n",
      "0            1       John     Smith   34    CA   75000        2022-01-15   \n",
      "1            2      Sarah   Johnson   28    NY   82000        2022-01-22   \n",
      "2            3    Michael     Brown   45    TX   95000        2022-02-03   \n",
      "3            4      Emily     Davis   31    FL   68000        2022-02-14   \n",
      "4            5      David    Wilson   52    IL  110000        2022-02-28   \n",
      "\n",
      "                     email  \n",
      "0     john.smith@email.com  \n",
      "1  sarah.johnson@email.com  \n",
      "2  michael.brown@email.com  \n",
      "3    emily.davis@email.com  \n",
      "4   david.wilson@email.com  \n",
      "   product_id                   product_name           category  price  \\\n",
      "0           1  Wireless Bluetooth Headphones        Electronics  79.99   \n",
      "1           2         Organic Cotton T-Shirt           Clothing  24.99   \n",
      "2           3   Stainless Steel Water Bottle      Home & Garden  19.99   \n",
      "3           4          Leather Crossbody Bag        Accessories  89.99   \n",
      "4           5               Yoga Mat Premium  Sports & Outdoors  34.99   \n",
      "\n",
      "  launch_date       brand  \n",
      "0  2021-03-15   AudioTech  \n",
      "1  2021-04-20     EcoWear  \n",
      "2  2021-05-10   HydroLife  \n",
      "3  2021-06-01  StyleCraft  \n",
      "4  2021-06-15     FitZone  \n",
      "   sale_id  customer_id  product_id     transaction_date  quantity  \\\n",
      "0        1            1           1  2022-02-10 14:30:00         1   \n",
      "1        2            2           3  2022-02-15 10:15:00         2   \n",
      "2        3            3           5  2022-02-20 16:45:00         1   \n",
      "3        4            4           2  2022-02-25 11:20:00         3   \n",
      "4        5            5           4  2022-03-01 13:10:00         1   \n",
      "\n",
      "   total_amount  \n",
      "0         79.99  \n",
      "1         39.98  \n",
      "2         34.99  \n",
      "3         74.97  \n",
      "4         89.99  \n"
     ]
    }
   ],
   "source": [
    "# Rename each DataFrame to an easier variable name\n",
    "customers_df = dataframes[\"customers_wk9_thurs.csv\"]\n",
    "products_df = dataframes[\"products_wk9_thurs.csv\"]\n",
    "sales_df = dataframes[\"sales_wk9_thurs.csv\"]\n",
    "\n",
    "# check first rows to make sure everything loaded correctly\n",
    "print(customers_df.head())\n",
    "print(products_df.head())\n",
    "print(sales_df.head())"
   ]
  },
  {
   "cell_type": "code",
   "execution_count": 16,
   "id": "4e28c72f-237c-456a-8db2-8f6345752333",
   "metadata": {},
   "outputs": [
    {
     "name": "stdout",
     "output_type": "stream",
     "text": [
      "0     2022-02-10 14:30:00\n",
      "1     2022-02-15 10:15:00\n",
      "2     2022-02-20 16:45:00\n",
      "3     2022-02-25 11:20:00\n",
      "4     2022-03-01 13:10:00\n",
      "              ...        \n",
      "145   2024-02-15 15:20:00\n",
      "146   2024-02-20 11:30:00\n",
      "147   2024-02-25 13:45:00\n",
      "148   2024-03-01 16:15:00\n",
      "149   2024-03-05 10:30:00\n",
      "Name: transaction_date, Length: 150, dtype: datetime64[ns]\n",
      "0    2021-03-15\n",
      "1    2021-04-20\n",
      "2    2021-05-10\n",
      "3    2021-06-01\n",
      "4    2021-06-15\n",
      "5    2021-07-08\n",
      "6    2021-07-22\n",
      "7    2021-08-05\n",
      "8    2021-08-18\n",
      "9    2021-09-02\n",
      "10   2021-09-16\n",
      "11   2021-10-01\n",
      "12   2021-10-15\n",
      "13   2021-11-01\n",
      "14   2021-11-12\n",
      "15   2021-11-28\n",
      "16   2021-12-10\n",
      "17   2021-12-22\n",
      "18   2022-01-08\n",
      "19   2022-01-20\n",
      "20   2022-02-03\n",
      "21   2022-02-17\n",
      "22   2022-03-01\n",
      "23   2022-03-15\n",
      "24   2022-03-28\n",
      "25   2022-04-10\n",
      "26   2022-04-22\n",
      "27   2022-05-05\n",
      "28   2022-05-18\n",
      "29   2022-06-01\n",
      "30   2022-06-14\n",
      "31   2022-06-28\n",
      "32   2022-07-10\n",
      "33   2022-07-23\n",
      "34   2022-08-05\n",
      "35   2022-08-18\n",
      "36   2022-09-01\n",
      "37   2022-09-14\n",
      "38   2022-09-27\n",
      "39   2022-10-10\n",
      "40   2022-10-23\n",
      "41   2022-11-05\n",
      "42   2022-11-18\n",
      "43   2022-12-01\n",
      "44   2022-12-14\n",
      "45   2022-12-27\n",
      "46   2023-01-09\n",
      "47   2023-01-22\n",
      "48   2023-02-04\n",
      "49   2023-02-17\n",
      "50   2023-03-02\n",
      "51   2023-03-15\n",
      "52   2023-03-28\n",
      "53   2023-04-10\n",
      "54   2023-04-23\n",
      "55   2023-05-06\n",
      "56   2023-05-19\n",
      "57   2023-06-01\n",
      "58   2023-06-14\n",
      "59   2023-06-27\n",
      "Name: launch_date, dtype: datetime64[ns]\n",
      "0    2022-01-15\n",
      "1    2022-01-22\n",
      "2    2022-02-03\n",
      "3    2022-02-14\n",
      "4    2022-02-28\n",
      "        ...    \n",
      "95   2023-12-08\n",
      "96   2023-12-15\n",
      "97   2023-12-22\n",
      "98   2023-12-29\n",
      "99   2024-01-05\n",
      "Name: registration_date, Length: 100, dtype: datetime64[ns]\n"
     ]
    }
   ],
   "source": [
    "# Load all three CSV files and convert date columns to proper DateTime format using pd.to_datetime()\n",
    "sales_df['transaction_date'] = pd.to_datetime(sales_df['transaction_date'])  \n",
    "products_df['launch_date'] = pd.to_datetime(products_df['launch_date'])\n",
    "customers_df['registration_date'] = pd.to_datetime(customers_df['registration_date'])\n",
    "\n",
    "print(sales_df['transaction_date'])\n",
    "print(products_df['launch_date'])\n",
    "print(customers_df['registration_date'])"
   ]
  },
  {
   "cell_type": "code",
   "execution_count": 21,
   "id": "4eb0ffe0-90b6-4d58-800e-038d7da9b4ef",
   "metadata": {},
   "outputs": [
    {
     "data": {
      "text/html": [
       "<div>\n",
       "<style scoped>\n",
       "    .dataframe tbody tr th:only-of-type {\n",
       "        vertical-align: middle;\n",
       "    }\n",
       "\n",
       "    .dataframe tbody tr th {\n",
       "        vertical-align: top;\n",
       "    }\n",
       "\n",
       "    .dataframe thead th {\n",
       "        text-align: right;\n",
       "    }\n",
       "</style>\n",
       "<table border=\"1\" class=\"dataframe\">\n",
       "  <thead>\n",
       "    <tr style=\"text-align: right;\">\n",
       "      <th></th>\n",
       "      <th>sale_id</th>\n",
       "      <th>customer_id</th>\n",
       "      <th>product_id</th>\n",
       "      <th>transaction_date</th>\n",
       "      <th>quantity</th>\n",
       "      <th>total_amount</th>\n",
       "      <th>month</th>\n",
       "      <th>day_of_week</th>\n",
       "      <th>year</th>\n",
       "    </tr>\n",
       "  </thead>\n",
       "  <tbody>\n",
       "    <tr>\n",
       "      <th>0</th>\n",
       "      <td>1</td>\n",
       "      <td>1</td>\n",
       "      <td>1</td>\n",
       "      <td>2022-02-10 14:30:00</td>\n",
       "      <td>1</td>\n",
       "      <td>79.99</td>\n",
       "      <td>2</td>\n",
       "      <td>Thursday</td>\n",
       "      <td>2022</td>\n",
       "    </tr>\n",
       "    <tr>\n",
       "      <th>1</th>\n",
       "      <td>2</td>\n",
       "      <td>2</td>\n",
       "      <td>3</td>\n",
       "      <td>2022-02-15 10:15:00</td>\n",
       "      <td>2</td>\n",
       "      <td>39.98</td>\n",
       "      <td>2</td>\n",
       "      <td>Tuesday</td>\n",
       "      <td>2022</td>\n",
       "    </tr>\n",
       "    <tr>\n",
       "      <th>2</th>\n",
       "      <td>3</td>\n",
       "      <td>3</td>\n",
       "      <td>5</td>\n",
       "      <td>2022-02-20 16:45:00</td>\n",
       "      <td>1</td>\n",
       "      <td>34.99</td>\n",
       "      <td>2</td>\n",
       "      <td>Sunday</td>\n",
       "      <td>2022</td>\n",
       "    </tr>\n",
       "    <tr>\n",
       "      <th>3</th>\n",
       "      <td>4</td>\n",
       "      <td>4</td>\n",
       "      <td>2</td>\n",
       "      <td>2022-02-25 11:20:00</td>\n",
       "      <td>3</td>\n",
       "      <td>74.97</td>\n",
       "      <td>2</td>\n",
       "      <td>Friday</td>\n",
       "      <td>2022</td>\n",
       "    </tr>\n",
       "    <tr>\n",
       "      <th>4</th>\n",
       "      <td>5</td>\n",
       "      <td>5</td>\n",
       "      <td>4</td>\n",
       "      <td>2022-03-01 13:10:00</td>\n",
       "      <td>1</td>\n",
       "      <td>89.99</td>\n",
       "      <td>3</td>\n",
       "      <td>Tuesday</td>\n",
       "      <td>2022</td>\n",
       "    </tr>\n",
       "    <tr>\n",
       "      <th>...</th>\n",
       "      <td>...</td>\n",
       "      <td>...</td>\n",
       "      <td>...</td>\n",
       "      <td>...</td>\n",
       "      <td>...</td>\n",
       "      <td>...</td>\n",
       "      <td>...</td>\n",
       "      <td>...</td>\n",
       "      <td>...</td>\n",
       "    </tr>\n",
       "    <tr>\n",
       "      <th>145</th>\n",
       "      <td>146</td>\n",
       "      <td>86</td>\n",
       "      <td>30</td>\n",
       "      <td>2024-02-15 15:20:00</td>\n",
       "      <td>1</td>\n",
       "      <td>34.99</td>\n",
       "      <td>2</td>\n",
       "      <td>Thursday</td>\n",
       "      <td>2024</td>\n",
       "    </tr>\n",
       "    <tr>\n",
       "      <th>146</th>\n",
       "      <td>147</td>\n",
       "      <td>87</td>\n",
       "      <td>32</td>\n",
       "      <td>2024-02-20 11:30:00</td>\n",
       "      <td>3</td>\n",
       "      <td>83.97</td>\n",
       "      <td>2</td>\n",
       "      <td>Tuesday</td>\n",
       "      <td>2024</td>\n",
       "    </tr>\n",
       "    <tr>\n",
       "      <th>147</th>\n",
       "      <td>148</td>\n",
       "      <td>88</td>\n",
       "      <td>34</td>\n",
       "      <td>2024-02-25 13:45:00</td>\n",
       "      <td>2</td>\n",
       "      <td>109.98</td>\n",
       "      <td>2</td>\n",
       "      <td>Sunday</td>\n",
       "      <td>2024</td>\n",
       "    </tr>\n",
       "    <tr>\n",
       "      <th>148</th>\n",
       "      <td>149</td>\n",
       "      <td>89</td>\n",
       "      <td>36</td>\n",
       "      <td>2024-03-01 16:15:00</td>\n",
       "      <td>1</td>\n",
       "      <td>29.99</td>\n",
       "      <td>3</td>\n",
       "      <td>Friday</td>\n",
       "      <td>2024</td>\n",
       "    </tr>\n",
       "    <tr>\n",
       "      <th>149</th>\n",
       "      <td>150</td>\n",
       "      <td>90</td>\n",
       "      <td>38</td>\n",
       "      <td>2024-03-05 10:30:00</td>\n",
       "      <td>4</td>\n",
       "      <td>139.96</td>\n",
       "      <td>3</td>\n",
       "      <td>Tuesday</td>\n",
       "      <td>2024</td>\n",
       "    </tr>\n",
       "  </tbody>\n",
       "</table>\n",
       "<p>150 rows × 9 columns</p>\n",
       "</div>"
      ],
      "text/plain": [
       "     sale_id  customer_id  product_id    transaction_date  quantity  \\\n",
       "0          1            1           1 2022-02-10 14:30:00         1   \n",
       "1          2            2           3 2022-02-15 10:15:00         2   \n",
       "2          3            3           5 2022-02-20 16:45:00         1   \n",
       "3          4            4           2 2022-02-25 11:20:00         3   \n",
       "4          5            5           4 2022-03-01 13:10:00         1   \n",
       "..       ...          ...         ...                 ...       ...   \n",
       "145      146           86          30 2024-02-15 15:20:00         1   \n",
       "146      147           87          32 2024-02-20 11:30:00         3   \n",
       "147      148           88          34 2024-02-25 13:45:00         2   \n",
       "148      149           89          36 2024-03-01 16:15:00         1   \n",
       "149      150           90          38 2024-03-05 10:30:00         4   \n",
       "\n",
       "     total_amount  month day_of_week  year  \n",
       "0           79.99      2    Thursday  2022  \n",
       "1           39.98      2     Tuesday  2022  \n",
       "2           34.99      2      Sunday  2022  \n",
       "3           74.97      2      Friday  2022  \n",
       "4           89.99      3     Tuesday  2022  \n",
       "..            ...    ...         ...   ...  \n",
       "145         34.99      2    Thursday  2024  \n",
       "146         83.97      2     Tuesday  2024  \n",
       "147        109.98      2      Sunday  2024  \n",
       "148         29.99      3      Friday  2024  \n",
       "149        139.96      3     Tuesday  2024  \n",
       "\n",
       "[150 rows x 9 columns]"
      ]
     },
     "execution_count": 21,
     "metadata": {},
     "output_type": "execute_result"
    }
   ],
   "source": [
    "# Extract useful components from the sales transaction dates: year, month, and day of week\n",
    "# - Month (as integer)\n",
    "# - Day of week (as name, e.g., 'Monday')\n",
    "# - Year \n",
    "# My code here\n",
    "sales_df['month'] = sales_df['transaction_date'].dt.month\n",
    "sales_df['day_of_week'] = sales_df['transaction_date'].dt.day_name()\n",
    "sales_df['year'] = sales_df['transaction_date'].dt.to_period('Y')\n",
    "sales_df"
   ]
  },
  {
   "cell_type": "code",
   "execution_count": 22,
   "id": "b5af144e-d4fa-4b42-bc15-23a80b992073",
   "metadata": {},
   "outputs": [
    {
     "name": "stdout",
     "output_type": "stream",
     "text": [
      "Earliest date: 2022-02-10 14:30:00\n",
      "Latest date: 2024-03-05 10:30:00\n"
     ]
    }
   ],
   "source": [
    "# Display the date range covered by your sales data (earliest and latest dates)\n",
    "sales_df['transaction_date'] = pd.to_datetime(sales_df['transaction_date'])\n",
    "print(f\"Earliest date: {sales_df['transaction_date'].min()}\")\n",
    "print(f\"Latest date: {sales_df['transaction_date'].max()}\")"
   ]
  },
  {
   "cell_type": "code",
   "execution_count": 23,
   "id": "fccb12ac-f172-47ef-bb28-bca1617782f3",
   "metadata": {},
   "outputs": [
    {
     "name": "stdout",
     "output_type": "stream",
     "text": [
      "Transaction counts by day of week:\n",
      "day_of_week\n",
      "Friday       24\n",
      "Tuesday      22\n",
      "Thursday     21\n",
      "Sunday       21\n",
      "Saturday     21\n",
      "Wednesday    21\n",
      "Monday       20\n",
      "Name: count, dtype: int64\n"
     ]
    }
   ],
   "source": [
    "# Basic Time Analysis\n",
    "# Find the busiest day of the week for sales (by counting transactions)\n",
    "day_counts = sales_df['day_of_week'].value_counts()\n",
    "\n",
    "print(\"Transaction counts by day of week:\")\n",
    "print(day_counts)\n",
    "# Friday is the busiest day of the week"
   ]
  },
  {
   "cell_type": "code",
   "execution_count": 25,
   "id": "8acc7a5e-3343-4f2a-b9f6-0b0dd1c631fe",
   "metadata": {},
   "outputs": [
    {
     "name": "stdout",
     "output_type": "stream",
     "text": [
      "Months with the most transaction:\n",
      "month\n",
      "2     16\n",
      "3     14\n",
      "12    14\n",
      "4     12\n",
      "5     12\n",
      "6     12\n",
      "8     12\n",
      "7     12\n",
      "9     12\n",
      "10    12\n",
      "11    12\n",
      "1     10\n",
      "Name: count, dtype: int64\n"
     ]
    }
   ],
   "source": [
    "# Determine which month had the most transactions\n",
    "monthly_transaction_counts = sales_df['month'].value_counts()\n",
    "print(\"Months with the most transaction:\")\n",
    "print(monthly_transaction_counts)\n",
    "# The month (2) Feburary had the most transactions "
   ]
  },
  {
   "cell_type": "code",
   "execution_count": 26,
   "id": "73411089-9e49-4b25-9e0f-8bce0958683d",
   "metadata": {},
   "outputs": [
    {
     "name": "stdout",
     "output_type": "stream",
     "text": [
      "Number of sales transaction by year:\n",
      "year\n",
      "2023    72\n",
      "2022    65\n",
      "2024    13\n",
      "Freq: Y-DEC, Name: count, dtype: int64\n"
     ]
    }
   ],
   "source": [
    "# Count how many sales happened in each year\n",
    "yearly_sales_count = sales_df['year'].value_counts()\n",
    "print(\"Number of sales transaction by year:\")\n",
    "print(yearly_sales_count)"
   ]
  },
  {
   "cell_type": "code",
   "execution_count": 33,
   "id": "e781b907-ce88-475c-b5f7-98a9c30de1f0",
   "metadata": {},
   "outputs": [
    {
     "name": "stdout",
     "output_type": "stream",
     "text": [
      "category\n",
      "Accessories           35.073333\n",
      "Clothing              52.240000\n",
      "Electronics           59.990000\n",
      "Home & Garden         30.156667\n",
      "Sports & Outdoors    105.899091\n",
      "Name: price, dtype: float64\n"
     ]
    }
   ],
   "source": [
    "# GroupBy and Aggregation\n",
    "# Product Analysis\n",
    "# Group products by category and calculate the average price for each category\n",
    "category_avg_prices = products_df.groupby('category')['price'].mean()\n",
    "print(category_avg_prices)"
   ]
  },
  {
   "cell_type": "code",
   "execution_count": 34,
   "id": "e0fda727-7b34-40a9-b9a7-da1ff0e322c8",
   "metadata": {},
   "outputs": [
    {
     "name": "stdout",
     "output_type": "stream",
     "text": [
      "Products per category\n",
      "category\n",
      "Electronics          13\n",
      "Clothing             12\n",
      "Home & Garden        12\n",
      "Accessories          12\n",
      "Sports & Outdoors    11\n",
      "Name: count, dtype: int64\n"
     ]
    }
   ],
   "source": [
    "# Count how many products are in each category\n",
    "products_per_category = products_df['category'].value_counts()\n",
    "print(\"Products per category\")\n",
    "print(products_per_category)"
   ]
  },
  {
   "cell_type": "code",
   "execution_count": 38,
   "id": "88d49f5f-08f1-4d2e-8efc-968e1cdd400d",
   "metadata": {},
   "outputs": [
    {
     "name": "stdout",
     "output_type": "stream",
     "text": [
      "Number of customers per state:\n",
      "  state  total_customers\n",
      "0    CA               20\n",
      "1    FL               20\n",
      "2    IL               20\n",
      "3    NY               20\n",
      "4    TX               20\n"
     ]
    }
   ],
   "source": [
    "# Customer Analysis:\n",
    "# Group customers by state and find the average age in each state\n",
    "customer_per_state = customers_df['state'].value_counts()\n",
    "state_by_customers = (\n",
    "    customers_df.groupby('state')['customer_id'].count()\n",
    "    .reset_index(name = 'total_customers')\n",
    "    .sort_values(by = 'total_customers', ascending = False)\n",
    ")\n",
    "print ('Number of customers per state:')\n",
    "print (state_by_customers)"
   ]
  },
  {
   "cell_type": "code",
   "execution_count": 37,
   "id": "09d0ca42-0f05-4983-be61-36c92151319e",
   "metadata": {},
   "outputs": [
    {
     "name": "stdout",
     "output_type": "stream",
     "text": [
      "Total Spending per Customer\n",
      "customer_id\n",
      "1    229.98\n",
      "2    179.96\n",
      "3    154.98\n",
      "4    234.95\n",
      "5    149.98\n",
      "Name: total_amount, dtype: float64\n"
     ]
    }
   ],
   "source": [
    "# Calculate total spending per customer (sum up all their purchases)\n",
    "total_spending = sales_df.groupby(\"customer_id\")[\"total_amount\"].sum()\n",
    "print(\"Total Spending per Customer\")\n",
    "print(total_spending.head())"
   ]
  },
  {
   "cell_type": "code",
   "execution_count": 39,
   "id": "4fe90452-bab5-402e-b33a-9b091193986f",
   "metadata": {},
   "outputs": [
    {
     "name": "stdout",
     "output_type": "stream",
     "text": [
      "Customers with most purchases\n",
      "   customer_id  transactions\n",
      "0            1             2\n",
      "1            2             2\n",
      "2            3             2\n",
      "3            4             2\n",
      "4            5             2\n"
     ]
    }
   ],
   "source": [
    "# Find customers who have made the most purchases\n",
    "purchase_counts = sales_df['customer_id'].value_counts()\n",
    "purchase_counts.columns = ['customer_id', 'num_purchases']\n",
    "customer_transactions = (\n",
    "    sales_df.groupby('customer_id')['sale_id'].count()\n",
    "    .reset_index(name = 'transactions')\n",
    "    .sort_values(by = 'transactions', ascending = False)\n",
    ")\n",
    "print('Customers with most purchases')\n",
    "print(customer_transactions.head())\n"
   ]
  },
  {
   "cell_type": "code",
   "execution_count": 42,
   "id": "a245ca97-df4b-4839-be10-d1755c50da90",
   "metadata": {},
   "outputs": [
    {
     "name": "stdout",
     "output_type": "stream",
     "text": [
      "Total Revenue Per Month\n",
      "month\n",
      "2022-02    229.93\n",
      "2022-03    504.92\n",
      "2022-04    415.90\n",
      "2022-05    450.90\n",
      "2022-06    502.84\n",
      "2022-07    485.90\n",
      "2022-08    376.87\n",
      "2022-09    660.90\n",
      "2022-10    493.90\n",
      "2022-11    481.89\n",
      "2022-12    730.85\n",
      "2023-01    384.91\n",
      "2023-02    750.87\n",
      "2023-03    440.90\n",
      "2023-04    508.87\n",
      "2023-05    726.89\n",
      "2023-06    483.84\n",
      "2023-07    444.90\n",
      "2023-08    493.87\n",
      "2023-09    489.86\n",
      "2023-10    741.90\n",
      "2023-11    540.87\n",
      "2023-12    727.86\n",
      "2024-01    479.88\n",
      "2024-02    688.86\n",
      "2024-03    169.95\n",
      "Freq: M, Name: total_amount, dtype: float64\n"
     ]
    }
   ],
   "source": [
    "# Sales Analysis:\n",
    "# Calculate total sales revenue by month\n",
    "sales_df['month'] = sales_df['transaction_date'].dt.to_period('M')\n",
    "monthly_revenue = sales_df.groupby('month')['total_amount'].sum()\n",
    "print(\"Total Revenue Per Month\")\n",
    "print(monthly_revenue)"
   ]
  },
  {
   "cell_type": "code",
   "execution_count": 48,
   "id": "2a515b7f-4af9-4588-93fb-54001374d615",
   "metadata": {
    "scrolled": true
   },
   "outputs": [
    {
     "name": "stdout",
     "output_type": "stream",
     "text": [
      "Average Transaction Amount by Day of Week:\n",
      "day_of_week\n",
      "Friday       100.940833\n",
      "Monday        90.927500\n",
      "Saturday      61.121905\n",
      "Sunday        99.551429\n",
      "Thursday     102.267619\n",
      "Tuesday       74.028636\n",
      "Wednesday     96.071905\n",
      "Name: total_amount, dtype: float64\n"
     ]
    }
   ],
   "source": [
    "# Find the average transaction amount by day of the week\n",
    "average_by_day = sales_df.groupby('day_of_week')['total_amount'].mean()\n",
    "\n",
    "print(\"Average Transaction Amount by Day of Week:\")\n",
    "print(average_by_day)"
   ]
  },
  {
   "cell_type": "code",
   "execution_count": 49,
   "id": "538a4065-601f-4377-97aa-9ff019d177d1",
   "metadata": {},
   "outputs": [
    {
     "name": "stdout",
     "output_type": "stream",
     "text": [
      "product category generates the most total revenue\n",
      "category\n",
      "Sports & Outdoors    1164.89\n",
      "Electronics           779.87\n",
      "Clothing              626.88\n",
      "Accessories           420.88\n",
      "Home & Garden         361.88\n",
      "Name: price, dtype: float64\n"
     ]
    }
   ],
   "source": [
    "# Determine which product category generates the most total revenue\n",
    "category_revenue = products_df.groupby('category')['price'].sum().sort_values(ascending = False)\n",
    "top_revenue = category_revenue.max()\n",
    "print ('product category generates the most total revenue')\n",
    "print (category_revenue)"
   ]
  },
  {
   "cell_type": "code",
   "execution_count": 50,
   "id": "b6f4a64b-4551-420d-9af2-4b628a0b9969",
   "metadata": {},
   "outputs": [
    {
     "name": "stdout",
     "output_type": "stream",
     "text": [
      "State with the most customers\n",
      "state\n",
      "CA    20\n",
      "Name: count, dtype: int64\n"
     ]
    }
   ],
   "source": [
    "# Part 3: Basic Data Insights\n",
    "# Simple Comparisons:\n",
    "# Find which state has the most customers\n",
    "most_customers = customers_df['state'].value_counts()\n",
    "top_count = most_customers.max()\n",
    "print('State with the most customers')\n",
    "print(most_customers.head(1))"
   ]
  },
  {
   "cell_type": "code",
   "execution_count": 51,
   "id": "f393bb0e-8a99-433b-a103-07225ca7a586",
   "metadata": {},
   "outputs": [
    {
     "name": "stdout",
     "output_type": "stream",
     "text": [
      "Top 5 customers by total spending:\n",
      "customer_id\n",
      "31    379.97\n",
      "13    359.96\n",
      "41    329.98\n",
      "84    319.98\n",
      "30    284.98\n",
      "Name: total_amount, dtype: float64\n"
     ]
    }
   ],
   "source": [
    "# Identify the top 5 customers by total spending\n",
    "top_customers = (\n",
    "    sales_df.groupby('customer_id')['total_amount']\n",
    "    .sum()\n",
    "    .sort_values(ascending=False)\n",
    "\n",
    ")\n",
    "print(\"Top 5 customers by total spending:\")\n",
    "print(top_customers.head(5))\n"
   ]
  },
  {
   "cell_type": "code",
   "execution_count": 52,
   "id": "4649a3cc-98d0-4aba-a0ff-93a51e7e9a83",
   "metadata": {},
   "outputs": [
    {
     "name": "stdout",
     "output_type": "stream",
     "text": [
      "Average transaction value by day of the week:\n",
      "day_of_week\n",
      "Thursday     102.267619\n",
      "Friday       100.940833\n",
      "Sunday        99.551429\n",
      "Wednesday     96.071905\n",
      "Monday        90.927500\n",
      "Tuesday       74.028636\n",
      "Saturday      61.121905\n",
      "Name: total_amount, dtype: float64\n"
     ]
    }
   ],
   "source": [
    "# Determine which day of the week has the highest average transaction value\n",
    "sales_df['transaction_date'] = pd.to_datetime(sales_df['transaction_date'])\n",
    "\n",
    "sales_df['day_of_week'] = sales_df['transaction_date'].dt.day_name()\n",
    "avg_transaction_by_day = sales_df.groupby('day_of_week')['total_amount'].mean()\n",
    "avg_transaction_by_day = avg_transaction_by_day.sort_values(ascending=False)\n",
    "\n",
    "print(\"Average transaction value by day of the week:\")\n",
    "print(avg_transaction_by_day)\n"
   ]
  },
  {
   "cell_type": "code",
   "execution_count": null,
   "id": "04a6baac-0c14-41f1-a4a7-42d12188c633",
   "metadata": {},
   "outputs": [],
   "source": [
    "#### Discussion Questions\n",
    "#### DateTime Benefits: How can extracting day of the week and month from dates help a retail business make better decisions?\n",
    "This can help a retail business make better decisions about staffing through identifying peak days or months for optimized staffing levels to meet\n",
    "customer demand effectively.Inventory management is well forcasted with extracting day of the week and month and reduces risk of stockouts or overstocking \n",
    "\n",
    "#### GroupBy Value: Why is it useful to group data by categories, states, or time periods rather than looking at individual transactions?\n",
    "Grouping data helps retailers see trends and patterns that are hidden when you look at individual transactions. For example, it is easy to compare \n",
    "sales performance across different states, identify the most popular product by product categories. this gives a much clearer, big-picture view. \n",
    "\n",
    "#### Business Applications: Based on your findings, what simple recommendations would you give to help the retail chain improve their performance?"
   ]
  }
 ],
 "metadata": {
  "kernelspec": {
   "display_name": "Python [conda env:base] *",
   "language": "python",
   "name": "conda-base-py"
  },
  "language_info": {
   "codemirror_mode": {
    "name": "ipython",
    "version": 3
   },
   "file_extension": ".py",
   "mimetype": "text/x-python",
   "name": "python",
   "nbconvert_exporter": "python",
   "pygments_lexer": "ipython3",
   "version": "3.13.5"
  }
 },
 "nbformat": 4,
 "nbformat_minor": 5
}
