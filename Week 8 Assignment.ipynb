{
 "cells": [
  {
   "cell_type": "code",
   "execution_count": 3,
   "id": "c2715aed-ff90-41b9-a02e-800470b11611",
   "metadata": {},
   "outputs": [
    {
     "name": "stdout",
     "output_type": "stream",
     "text": [
      "\n",
      "--- wk8-customers.csv ---\n",
      "   customer_id first_name last_name                  email           phone  \\\n",
      "0            1      James     Smith  james.smith@gmail.com    555-123-4567   \n",
      "1            2       Mary   Johnson                    NaN    212.555.6789   \n",
      "2            3       John  Williams    jwilliams@yahoo.com  (555) 987-6543   \n",
      "3            4   Patricia     Brown     pbrown@hotmail.com      5551234567   \n",
      "4            5     Robert     Jones     rjones23@gmail.com    555-987-3456   \n",
      "\n",
      "        address         city       state    zip_code registration_date  \n",
      "0   123 Main St     New York          NY       10001        2021-03-15  \n",
      "1  456 Park Ave     New York          NY       10022        2020-11-02  \n",
      "2  789 Broadway  Los Angeles  California  90001-1234        2021-05-20  \n",
      "3    321 Elm St      Chicago          IL       60601               NaN  \n",
      "4   555 Pine St      Houston          TX       77002        2020-09-12  \n",
      "\n",
      "--- wk8-inventory.csv ---\n",
      "   inventory_id  store_id  product_id  quantity_in_stock last_restock_date  \\\n",
      "0             1         1           1                 25        2022-10-15   \n",
      "1             2         1           5                 42        2022-11-02   \n",
      "2             3         1          10                 18        2022-09-30   \n",
      "3             4         1          15                  5        2022-10-20   \n",
      "4             5         1          20                 12               NaN   \n",
      "\n",
      "   reorder_level  \n",
      "0           10.0  \n",
      "1           15.0  \n",
      "2            8.0  \n",
      "3           10.0  \n",
      "4           15.0  \n",
      "\n",
      "--- wk8-products.csv ---\n",
      "   product_id        product_name     category  subcategory    brand    price  \\\n",
      "0           1     Apple iPhone 13  Electronics  Smartphones    Apple   899.99   \n",
      "1           2  Samsung Galaxy S21  electronics  Smartphones  Samsung   799.99   \n",
      "2           3     Sony WH-1000XM4  ELECTRONICS   Headphones     Sony   349.99   \n",
      "3           4         Dell XPS 13  Electronics      Laptops     Dell  1299.99   \n",
      "4           5    Nike Classic Tee     Clothing       Shirts     Nike    24.99   \n",
      "\n",
      "     cost  weight  \n",
      "0  649.99    0.45  \n",
      "1  539.99    0.50  \n",
      "2  210.00    0.60  \n",
      "3  899.99    2.80  \n",
      "4   12.50    0.20  \n",
      "\n",
      "--- wk8-sales.csv ---\n",
      "   sale_id        date  store_id  customer_id  product_id  quantity    total  \\\n",
      "0        1  2022-01-15       3.0           12           5         2    49.98   \n",
      "1        2  2022-01-16       1.0            5          10         1    49.99   \n",
      "2        3  2022-01-18       2.0            8           3         1   349.99   \n",
      "3        4  2022-01-20       4.0           20           7         1   349.99   \n",
      "4        5  2022-01-22       5.0            3          15         1  1599.99   \n",
      "\n",
      "  payment_method  \n",
      "0    Credit Card  \n",
      "1    credit card  \n",
      "2     DEBIT CARD  \n",
      "3           Cash  \n",
      "4             CC  \n",
      "\n",
      "--- wk8-stores.csv ---\n",
      "   store_id         store_name           address         city  state zip_code  \\\n",
      "0         1        City Center   123 Retail Blvd     New York     NY    10001   \n",
      "1         2    Mall of Chicago  456 Shopping Ave      Chicago     IL    60611   \n",
      "2         3  Los Angeles Plaza   789 Commerce St  Los Angeles     CA    90001   \n",
      "3         4   Houston Galleria       321 Main St      Houston  Texas    77002   \n",
      "4         5     Phoenix Outlet     654 Desert Rd      Phoenix     AZ    85001   \n",
      "\n",
      "      region  size_sqft opening_date  \n",
      "0  Northeast    32500.0   2005-05-20  \n",
      "1    Midwest    45000.0   2007-08-15  \n",
      "2       West    55000.0   2004-03-10  \n",
      "3  Southwest        NaN   2008-11-05  \n",
      "4  Southwest    18500.0   2010-06-30  \n"
     ]
    }
   ],
   "source": [
    "import pandas as pd\n",
    "import glob\n",
    "\n",
    "#1. Get all CSV file paths from a folder\n",
    "csv_files = glob.glob(\"*.csv\")\n",
    "\n",
    "#2. Create a dictionary of DataFrames\n",
    "dataframes = {file: pd.read_csv(file) for file in csv_files}\n",
    "\n",
    "#3. Display the first few rows of each DataFrame\n",
    "for file, df in dataframes.items():\n",
    "    print(f\"\\n--- {file} ---\")\n",
    "    print(df.head())"
   ]
  },
  {
   "cell_type": "code",
   "execution_count": 4,
   "id": "005ad29e-18ca-45d6-aac9-52b615cda41c",
   "metadata": {},
   "outputs": [
    {
     "name": "stdout",
     "output_type": "stream",
     "text": [
      "dict_keys(['wk8-customers.csv', 'wk8-inventory.csv', 'wk8-products.csv', 'wk8-sales.csv', 'wk8-stores.csv'])\n"
     ]
    }
   ],
   "source": [
    "# See all keys (file names)\n",
    "print(dataframes.keys())"
   ]
  },
  {
   "cell_type": "code",
   "execution_count": 5,
   "id": "2258bbd5-04f9-401d-b1c7-ccf4823551d1",
   "metadata": {},
   "outputs": [
    {
     "name": "stdout",
     "output_type": "stream",
     "text": [
      "   inventory_id  store_id  product_id  quantity_in_stock last_restock_date  \\\n",
      "0             1         1           1                 25        2022-10-15   \n",
      "1             2         1           5                 42        2022-11-02   \n",
      "2             3         1          10                 18        2022-09-30   \n",
      "3             4         1          15                  5        2022-10-20   \n",
      "4             5         1          20                 12               NaN   \n",
      "\n",
      "   reorder_level  \n",
      "0           10.0  \n",
      "1           15.0  \n",
      "2            8.0  \n",
      "3           10.0  \n",
      "4           15.0  \n",
      "   sale_id        date  store_id  customer_id  product_id  quantity    total  \\\n",
      "0        1  2022-01-15       3.0           12           5         2    49.98   \n",
      "1        2  2022-01-16       1.0            5          10         1    49.99   \n",
      "2        3  2022-01-18       2.0            8           3         1   349.99   \n",
      "3        4  2022-01-20       4.0           20           7         1   349.99   \n",
      "4        5  2022-01-22       5.0            3          15         1  1599.99   \n",
      "\n",
      "  payment_method  \n",
      "0    Credit Card  \n",
      "1    credit card  \n",
      "2     DEBIT CARD  \n",
      "3           Cash  \n",
      "4             CC  \n",
      "   store_id         store_name           address         city  state zip_code  \\\n",
      "0         1        City Center   123 Retail Blvd     New York     NY    10001   \n",
      "1         2    Mall of Chicago  456 Shopping Ave      Chicago     IL    60611   \n",
      "2         3  Los Angeles Plaza   789 Commerce St  Los Angeles     CA    90001   \n",
      "3         4   Houston Galleria       321 Main St      Houston  Texas    77002   \n",
      "4         5     Phoenix Outlet     654 Desert Rd      Phoenix     AZ    85001   \n",
      "\n",
      "      region  size_sqft opening_date  \n",
      "0  Northeast    32500.0   2005-05-20  \n",
      "1    Midwest    45000.0   2007-08-15  \n",
      "2       West    55000.0   2004-03-10  \n",
      "3  Southwest        NaN   2008-11-05  \n",
      "4  Southwest    18500.0   2010-06-30  \n",
      "   customer_id first_name last_name                  email           phone  \\\n",
      "0            1      James     Smith  james.smith@gmail.com    555-123-4567   \n",
      "1            2       Mary   Johnson                    NaN    212.555.6789   \n",
      "2            3       John  Williams    jwilliams@yahoo.com  (555) 987-6543   \n",
      "3            4   Patricia     Brown     pbrown@hotmail.com      5551234567   \n",
      "4            5     Robert     Jones     rjones23@gmail.com    555-987-3456   \n",
      "\n",
      "        address         city       state    zip_code registration_date  \n",
      "0   123 Main St     New York          NY       10001        2021-03-15  \n",
      "1  456 Park Ave     New York          NY       10022        2020-11-02  \n",
      "2  789 Broadway  Los Angeles  California  90001-1234        2021-05-20  \n",
      "3    321 Elm St      Chicago          IL       60601               NaN  \n",
      "4   555 Pine St      Houston          TX       77002        2020-09-12  \n",
      "   product_id        product_name     category  subcategory    brand    price  \\\n",
      "0           1     Apple iPhone 13  Electronics  Smartphones    Apple   899.99   \n",
      "1           2  Samsung Galaxy S21  electronics  Smartphones  Samsung   799.99   \n",
      "2           3     Sony WH-1000XM4  ELECTRONICS   Headphones     Sony   349.99   \n",
      "3           4         Dell XPS 13  Electronics      Laptops     Dell  1299.99   \n",
      "4           5    Nike Classic Tee     Clothing       Shirts     Nike    24.99   \n",
      "\n",
      "     cost  weight  \n",
      "0  649.99    0.45  \n",
      "1  539.99    0.50  \n",
      "2  210.00    0.60  \n",
      "3  899.99    2.80  \n",
      "4   12.50    0.20  \n"
     ]
    }
   ],
   "source": [
    "# Rename each DataFrame to an easier variable name\n",
    "inventory_df = dataframes[\"wk8-inventory.csv\"]\n",
    "sales_df = dataframes[\"wk8-sales.csv\"]\n",
    "stores_df = dataframes[\"wk8-stores.csv\"]\n",
    "customers_df = dataframes[\"wk8-customers.csv\"]\n",
    "products_df = dataframes[\"wk8-products.csv\"]\n",
    "\n",
    "# check first rows to make sure everything loaded correctly\n",
    "print(inventory_df.head())\n",
    "print(sales_df.head())\n",
    "print(stores_df.head())\n",
    "print(customers_df.head())\n",
    "print(products_df.head())"
   ]
  },
  {
   "cell_type": "code",
   "execution_count": 6,
   "id": "862ed31a-b4b3-4f01-9be6-b676d905550d",
   "metadata": {},
   "outputs": [
    {
     "name": "stdout",
     "output_type": "stream",
     "text": [
      "<class 'pandas.core.frame.DataFrame'>\n",
      "RangeIndex: 31 entries, 0 to 30\n",
      "Data columns (total 10 columns):\n",
      " #   Column             Non-Null Count  Dtype \n",
      "---  ------             --------------  ----- \n",
      " 0   customer_id        31 non-null     int64 \n",
      " 1   first_name         31 non-null     object\n",
      " 2   last_name          31 non-null     object\n",
      " 3   email              28 non-null     object\n",
      " 4   phone              29 non-null     object\n",
      " 5   address            31 non-null     object\n",
      " 6   city               31 non-null     object\n",
      " 7   state              31 non-null     object\n",
      " 8   zip_code           30 non-null     object\n",
      " 9   registration_date  28 non-null     object\n",
      "dtypes: int64(1), object(9)\n",
      "memory usage: 2.6+ KB\n"
     ]
    },
    {
     "data": {
      "text/plain": [
       "customer_id          0\n",
       "first_name           0\n",
       "last_name            0\n",
       "email                3\n",
       "phone                2\n",
       "address              0\n",
       "city                 0\n",
       "state                0\n",
       "zip_code             1\n",
       "registration_date    3\n",
       "dtype: int64"
      ]
     },
     "execution_count": 6,
     "metadata": {},
     "output_type": "execute_result"
    }
   ],
   "source": [
    "# Look at the customers table\n",
    "customers_df.info() # shows structure of the table\n",
    "customers_df.describe() # summary statistics\n",
    "customers_df.isnull().sum() # missing values per column"
   ]
  },
  {
   "cell_type": "code",
   "execution_count": 7,
   "id": "b80496ea-9488-4c04-951e-a160b19d09f5",
   "metadata": {},
   "outputs": [
    {
     "name": "stdout",
     "output_type": "stream",
     "text": [
      "<class 'pandas.core.frame.DataFrame'>\n",
      "RangeIndex: 75 entries, 0 to 74\n",
      "Data columns (total 6 columns):\n",
      " #   Column             Non-Null Count  Dtype  \n",
      "---  ------             --------------  -----  \n",
      " 0   inventory_id       75 non-null     int64  \n",
      " 1   store_id           75 non-null     int64  \n",
      " 2   product_id         75 non-null     int64  \n",
      " 3   quantity_in_stock  75 non-null     int64  \n",
      " 4   last_restock_date  66 non-null     object \n",
      " 5   reorder_level      69 non-null     float64\n",
      "dtypes: float64(1), int64(4), object(1)\n",
      "memory usage: 3.6+ KB\n"
     ]
    },
    {
     "data": {
      "text/plain": [
       "inventory_id         0\n",
       "store_id             0\n",
       "product_id           0\n",
       "quantity_in_stock    0\n",
       "last_restock_date    9\n",
       "reorder_level        6\n",
       "dtype: int64"
      ]
     },
     "execution_count": 7,
     "metadata": {},
     "output_type": "execute_result"
    }
   ],
   "source": [
    "# Look at the iventory table\n",
    "inventory_df.info() # shows structure of the table\n",
    "inventory_df.describe() # summary statistics\n",
    "inventory_df.isnull().sum() # missing values per column"
   ]
  },
  {
   "cell_type": "code",
   "execution_count": 8,
   "id": "2525e5b8-c050-461d-8177-b1838bca5e7b",
   "metadata": {},
   "outputs": [
    {
     "name": "stdout",
     "output_type": "stream",
     "text": [
      "<class 'pandas.core.frame.DataFrame'>\n",
      "RangeIndex: 40 entries, 0 to 39\n",
      "Data columns (total 8 columns):\n",
      " #   Column          Non-Null Count  Dtype  \n",
      "---  ------          --------------  -----  \n",
      " 0   sale_id         40 non-null     int64  \n",
      " 1   date            39 non-null     object \n",
      " 2   store_id        39 non-null     float64\n",
      " 3   customer_id     40 non-null     int64  \n",
      " 4   product_id      40 non-null     int64  \n",
      " 5   quantity        40 non-null     int64  \n",
      " 6   total           40 non-null     float64\n",
      " 7   payment_method  39 non-null     object \n",
      "dtypes: float64(2), int64(4), object(2)\n",
      "memory usage: 2.6+ KB\n"
     ]
    },
    {
     "data": {
      "text/plain": [
       "sale_id           0\n",
       "date              1\n",
       "store_id          1\n",
       "customer_id       0\n",
       "product_id        0\n",
       "quantity          0\n",
       "total             0\n",
       "payment_method    1\n",
       "dtype: int64"
      ]
     },
     "execution_count": 8,
     "metadata": {},
     "output_type": "execute_result"
    }
   ],
   "source": [
    "# Look at the sales table\n",
    "sales_df.info() # shows structure of the table\n",
    "sales_df.describe() # summary statistics\n",
    "sales_df.isnull().sum() # missing values per column"
   ]
  },
  {
   "cell_type": "code",
   "execution_count": 9,
   "id": "08af49cc-637c-4d83-9dab-37ddf8006273",
   "metadata": {},
   "outputs": [
    {
     "name": "stdout",
     "output_type": "stream",
     "text": [
      "<class 'pandas.core.frame.DataFrame'>\n",
      "RangeIndex: 15 entries, 0 to 14\n",
      "Data columns (total 9 columns):\n",
      " #   Column        Non-Null Count  Dtype  \n",
      "---  ------        --------------  -----  \n",
      " 0   store_id      15 non-null     int64  \n",
      " 1   store_name    15 non-null     object \n",
      " 2   address       15 non-null     object \n",
      " 3   city          15 non-null     object \n",
      " 4   state         15 non-null     object \n",
      " 5   zip_code      15 non-null     object \n",
      " 6   region        15 non-null     object \n",
      " 7   size_sqft     13 non-null     float64\n",
      " 8   opening_date  14 non-null     object \n",
      "dtypes: float64(1), int64(1), object(7)\n",
      "memory usage: 1.2+ KB\n"
     ]
    },
    {
     "data": {
      "text/plain": [
       "store_id        0\n",
       "store_name      0\n",
       "address         0\n",
       "city            0\n",
       "state           0\n",
       "zip_code        0\n",
       "region          0\n",
       "size_sqft       2\n",
       "opening_date    1\n",
       "dtype: int64"
      ]
     },
     "execution_count": 9,
     "metadata": {},
     "output_type": "execute_result"
    }
   ],
   "source": [
    "# Look at the stores table\n",
    "stores_df.info() # shows structure of the table\n",
    "stores_df.describe() # summary statistics\n",
    "stores_df.isnull().sum() # missing values per column"
   ]
  },
  {
   "cell_type": "code",
   "execution_count": 10,
   "id": "4a45d17b-3fbe-4773-82e0-47aa5a4ab936",
   "metadata": {},
   "outputs": [
    {
     "name": "stdout",
     "output_type": "stream",
     "text": [
      "<class 'pandas.core.frame.DataFrame'>\n",
      "RangeIndex: 30 entries, 0 to 29\n",
      "Data columns (total 8 columns):\n",
      " #   Column        Non-Null Count  Dtype  \n",
      "---  ------        --------------  -----  \n",
      " 0   product_id    30 non-null     int64  \n",
      " 1   product_name  30 non-null     object \n",
      " 2   category      30 non-null     object \n",
      " 3   subcategory   30 non-null     object \n",
      " 4   brand         30 non-null     object \n",
      " 5   price         30 non-null     float64\n",
      " 6   cost          30 non-null     float64\n",
      " 7   weight        28 non-null     float64\n",
      "dtypes: float64(3), int64(1), object(4)\n",
      "memory usage: 2.0+ KB\n"
     ]
    },
    {
     "data": {
      "text/plain": [
       "product_id      0\n",
       "product_name    0\n",
       "category        0\n",
       "subcategory     0\n",
       "brand           0\n",
       "price           0\n",
       "cost            0\n",
       "weight          2\n",
       "dtype: int64"
      ]
     },
     "execution_count": 10,
     "metadata": {},
     "output_type": "execute_result"
    }
   ],
   "source": [
    "# Look at the products table\n",
    "products_df.info() # shows structure of the table\n",
    "products_df.describe() # summary statistics\n",
    "products_df.isnull().sum() # missing values per column"
   ]
  },
  {
   "cell_type": "code",
   "execution_count": 11,
   "id": "963ddfe6-46ed-4f9f-a0cd-e0a77e01b56c",
   "metadata": {},
   "outputs": [
    {
     "data": {
      "text/html": [
       "<div>\n",
       "<style scoped>\n",
       "    .dataframe tbody tr th:only-of-type {\n",
       "        vertical-align: middle;\n",
       "    }\n",
       "\n",
       "    .dataframe tbody tr th {\n",
       "        vertical-align: top;\n",
       "    }\n",
       "\n",
       "    .dataframe thead th {\n",
       "        text-align: right;\n",
       "    }\n",
       "</style>\n",
       "<table border=\"1\" class=\"dataframe\">\n",
       "  <thead>\n",
       "    <tr style=\"text-align: right;\">\n",
       "      <th></th>\n",
       "      <th>sale_id</th>\n",
       "      <th>date</th>\n",
       "      <th>store_id</th>\n",
       "      <th>customer_id</th>\n",
       "      <th>product_id</th>\n",
       "      <th>quantity</th>\n",
       "      <th>total</th>\n",
       "      <th>payment_method</th>\n",
       "    </tr>\n",
       "  </thead>\n",
       "  <tbody>\n",
       "    <tr>\n",
       "      <th>count</th>\n",
       "      <td>40.000000</td>\n",
       "      <td>39</td>\n",
       "      <td>39.000000</td>\n",
       "      <td>40.000000</td>\n",
       "      <td>40.000000</td>\n",
       "      <td>40.000000</td>\n",
       "      <td>40.000000</td>\n",
       "      <td>39</td>\n",
       "    </tr>\n",
       "    <tr>\n",
       "      <th>unique</th>\n",
       "      <td>NaN</td>\n",
       "      <td>39</td>\n",
       "      <td>NaN</td>\n",
       "      <td>NaN</td>\n",
       "      <td>NaN</td>\n",
       "      <td>NaN</td>\n",
       "      <td>NaN</td>\n",
       "      <td>21</td>\n",
       "    </tr>\n",
       "    <tr>\n",
       "      <th>top</th>\n",
       "      <td>NaN</td>\n",
       "      <td>2022-01-15</td>\n",
       "      <td>NaN</td>\n",
       "      <td>NaN</td>\n",
       "      <td>NaN</td>\n",
       "      <td>NaN</td>\n",
       "      <td>NaN</td>\n",
       "      <td>Credit Card</td>\n",
       "    </tr>\n",
       "    <tr>\n",
       "      <th>freq</th>\n",
       "      <td>NaN</td>\n",
       "      <td>1</td>\n",
       "      <td>NaN</td>\n",
       "      <td>NaN</td>\n",
       "      <td>NaN</td>\n",
       "      <td>NaN</td>\n",
       "      <td>NaN</td>\n",
       "      <td>8</td>\n",
       "    </tr>\n",
       "    <tr>\n",
       "      <th>mean</th>\n",
       "      <td>20.500000</td>\n",
       "      <td>NaN</td>\n",
       "      <td>6.487179</td>\n",
       "      <td>14.075000</td>\n",
       "      <td>13.500000</td>\n",
       "      <td>1.625000</td>\n",
       "      <td>352.296500</td>\n",
       "      <td>NaN</td>\n",
       "    </tr>\n",
       "    <tr>\n",
       "      <th>std</th>\n",
       "      <td>11.690452</td>\n",
       "      <td>NaN</td>\n",
       "      <td>4.235637</td>\n",
       "      <td>8.303189</td>\n",
       "      <td>8.857852</td>\n",
       "      <td>0.952392</td>\n",
       "      <td>377.625776</td>\n",
       "      <td>NaN</td>\n",
       "    </tr>\n",
       "    <tr>\n",
       "      <th>min</th>\n",
       "      <td>1.000000</td>\n",
       "      <td>NaN</td>\n",
       "      <td>1.000000</td>\n",
       "      <td>1.000000</td>\n",
       "      <td>1.000000</td>\n",
       "      <td>1.000000</td>\n",
       "      <td>19.980000</td>\n",
       "      <td>NaN</td>\n",
       "    </tr>\n",
       "    <tr>\n",
       "      <th>25%</th>\n",
       "      <td>10.750000</td>\n",
       "      <td>NaN</td>\n",
       "      <td>3.000000</td>\n",
       "      <td>6.750000</td>\n",
       "      <td>5.750000</td>\n",
       "      <td>1.000000</td>\n",
       "      <td>99.737500</td>\n",
       "      <td>NaN</td>\n",
       "    </tr>\n",
       "    <tr>\n",
       "      <th>50%</th>\n",
       "      <td>20.500000</td>\n",
       "      <td>NaN</td>\n",
       "      <td>6.000000</td>\n",
       "      <td>13.500000</td>\n",
       "      <td>11.500000</td>\n",
       "      <td>1.000000</td>\n",
       "      <td>229.985000</td>\n",
       "      <td>NaN</td>\n",
       "    </tr>\n",
       "    <tr>\n",
       "      <th>75%</th>\n",
       "      <td>30.250000</td>\n",
       "      <td>NaN</td>\n",
       "      <td>9.500000</td>\n",
       "      <td>20.250000</td>\n",
       "      <td>21.250000</td>\n",
       "      <td>2.000000</td>\n",
       "      <td>352.487500</td>\n",
       "      <td>NaN</td>\n",
       "    </tr>\n",
       "    <tr>\n",
       "      <th>max</th>\n",
       "      <td>40.000000</td>\n",
       "      <td>NaN</td>\n",
       "      <td>15.000000</td>\n",
       "      <td>29.000000</td>\n",
       "      <td>30.000000</td>\n",
       "      <td>5.000000</td>\n",
       "      <td>1599.990000</td>\n",
       "      <td>NaN</td>\n",
       "    </tr>\n",
       "  </tbody>\n",
       "</table>\n",
       "</div>"
      ],
      "text/plain": [
       "          sale_id        date   store_id  customer_id  product_id   quantity  \\\n",
       "count   40.000000          39  39.000000    40.000000   40.000000  40.000000   \n",
       "unique        NaN          39        NaN          NaN         NaN        NaN   \n",
       "top           NaN  2022-01-15        NaN          NaN         NaN        NaN   \n",
       "freq          NaN           1        NaN          NaN         NaN        NaN   \n",
       "mean    20.500000         NaN   6.487179    14.075000   13.500000   1.625000   \n",
       "std     11.690452         NaN   4.235637     8.303189    8.857852   0.952392   \n",
       "min      1.000000         NaN   1.000000     1.000000    1.000000   1.000000   \n",
       "25%     10.750000         NaN   3.000000     6.750000    5.750000   1.000000   \n",
       "50%     20.500000         NaN   6.000000    13.500000   11.500000   1.000000   \n",
       "75%     30.250000         NaN   9.500000    20.250000   21.250000   2.000000   \n",
       "max     40.000000         NaN  15.000000    29.000000   30.000000   5.000000   \n",
       "\n",
       "              total payment_method  \n",
       "count     40.000000             39  \n",
       "unique          NaN             21  \n",
       "top             NaN    Credit Card  \n",
       "freq            NaN              8  \n",
       "mean     352.296500            NaN  \n",
       "std      377.625776            NaN  \n",
       "min       19.980000            NaN  \n",
       "25%       99.737500            NaN  \n",
       "50%      229.985000            NaN  \n",
       "75%      352.487500            NaN  \n",
       "max     1599.990000            NaN  "
      ]
     },
     "execution_count": 11,
     "metadata": {},
     "output_type": "execute_result"
    }
   ],
   "source": [
    "sales_df.describe(include = 'all')"
   ]
  },
  {
   "cell_type": "code",
   "execution_count": 12,
   "id": "6750271e-6755-40dc-a0cd-125d8007c113",
   "metadata": {},
   "outputs": [
    {
     "name": "stdout",
     "output_type": "stream",
     "text": [
      "Number of unique products: 30\n"
     ]
    }
   ],
   "source": [
    "# # 3. Basic Information Retrieval\n",
    "\n",
    "# How many unique products are in the product catalog?\n",
    "unique_products = products_df['product_id'].nunique()\n",
    "print(\"Number of unique products:\", unique_products)"
   ]
  },
  {
   "cell_type": "code",
   "execution_count": 13,
   "id": "81ec1b23-23bf-45a9-92e6-f380d258effa",
   "metadata": {},
   "outputs": [
    {
     "name": "stdout",
     "output_type": "stream",
     "text": [
      "    product_id        product_name        category  subcategory    brand  \\\n",
      "3            4         Dell XPS 13     Electronics      Laptops     Dell   \n",
      "0            1     Apple iPhone 13     Electronics  Smartphones    Apple   \n",
      "1            2  Samsung Galaxy S21     electronics  Smartphones  Samsung   \n",
      "19          20    Dyson V11 Vacuum  HOME & KITCHEN   Appliances    Dyson   \n",
      "26          27  Sony PlayStation 5     Electronics       Gaming     Sony   \n",
      "\n",
      "      price    cost  weight  \n",
      "3   1299.99  899.99    2.80  \n",
      "0    899.99  649.99    0.45  \n",
      "1    799.99  539.99    0.50  \n",
      "19   599.99  375.00    6.70  \n",
      "26   499.99  399.00    4.50  \n"
     ]
    }
   ],
   "source": [
    "# What are the top 5 most expensive products?\n",
    "top_expensive_products = products_df.sort_values(by='price', ascending=False).head(5)\n",
    "print(top_expensive_products)\n"
   ]
  },
  {
   "cell_type": "code",
   "execution_count": 23,
   "id": "7c0b6884-a040-4c9e-9c30-2e7cf347906e",
   "metadata": {},
   "outputs": [
    {
     "name": "stdout",
     "output_type": "stream",
     "text": [
      "store_id                        3\n",
      "store_name      Los Angeles Plaza\n",
      "address           789 Commerce St\n",
      "city                  Los Angeles\n",
      "state                          CA\n",
      "zip_code                    90001\n",
      "region                       West\n",
      "size_sqft                 55000.0\n",
      "opening_date           2004-03-10\n",
      "Name: 2, dtype: object\n"
     ]
    }
   ],
   "source": [
    "# Which store has the largest floor space?\n",
    "largest_store = stores_df.sort_values(by='size_sqft', ascending=False).iloc[0]\n",
    "print(largest_store)"
   ]
  },
  {
   "cell_type": "code",
   "execution_count": 24,
   "id": "d58097e0-98c5-4661-8f99-9be607ad98b1",
   "metadata": {},
   "outputs": [
    {
     "data": {
      "text/plain": [
       "55000.0"
      ]
     },
     "execution_count": 24,
     "metadata": {},
     "output_type": "execute_result"
    }
   ],
   "source": [
    "stores_df['size_sqft'].max()"
   ]
  },
  {
   "cell_type": "code",
   "execution_count": 27,
   "id": "5dde701b-d9f6-4684-9df7-00282d6b76ea",
   "metadata": {},
   "outputs": [
    {
     "data": {
      "text/plain": [
       "Text(0, 0.5, 'Number of Customer')"
      ]
     },
     "execution_count": 27,
     "metadata": {},
     "output_type": "execute_result"
    },
    {
     "data": {
      "image/png": "[encoded data removed]",
      "text/plain": [
       "<Figure size 640x480 with 1 Axes>"
      ]
     },
     "metadata": {},
     "output_type": "display_data"
    }
   ],
   "source": [
    "# What is the distribution of customers by state?\n",
    "# Plot number of customers per state\n",
    "import matplotlib.pyplot as plt\n",
    "customers_df[\"state\"].value_counts().plot(kind=\"bar\", color= \"blue\", title= \"Distribution of Customers by State\")\n",
    "plt.ylabel(\"Number of Customer\")"
   ]
  },
  {
   "cell_type": "code",
   "execution_count": 41,
   "id": "f00599af-6fe9-4617-9ff9-1ddf12eb563f",
   "metadata": {},
   "outputs": [
    {
     "name": "stdout",
     "output_type": "stream",
     "text": [
      "<class 'pandas.core.frame.DataFrame'>\n",
      "RangeIndex: 15 entries, 0 to 14\n",
      "Data columns (total 9 columns):\n",
      " #   Column        Non-Null Count  Dtype  \n",
      "---  ------        --------------  -----  \n",
      " 0   store_id      15 non-null     int64  \n",
      " 1   store_name    15 non-null     object \n",
      " 2   address       15 non-null     object \n",
      " 3   city          15 non-null     object \n",
      " 4   state         15 non-null     object \n",
      " 5   zip_code      15 non-null     object \n",
      " 6   region        15 non-null     object \n",
      " 7   size_sqft     15 non-null     float64\n",
      " 8   opening_date  15 non-null     object \n",
      "dtypes: float64(1), int64(1), object(7)\n",
      "memory usage: 1.2+ KB\n"
     ]
    },
    {
     "data": {
      "text/plain": [
       "store_id        0\n",
       "store_name      0\n",
       "address         0\n",
       "city            0\n",
       "state           0\n",
       "zip_code        0\n",
       "region          0\n",
       "size_sqft       0\n",
       "opening_date    0\n",
       "dtype: int64"
      ]
     },
     "execution_count": 41,
     "metadata": {},
     "output_type": "execute_result"
    }
   ],
   "source": [
    "# Part 2: Data Cleaning\n",
    "\n",
    "# 1. Handling Missing Values\n",
    "# For size_sqft fill missing values with mean value \n",
    "stores_df.describe()\n",
    "mean_value = 13.00\n",
    "stores_df['size_sqft'] = stores_df['size_sqft'].fillna(mean_value)\n",
    "stores_df.info()\n",
    "stores_df.shape\n",
    "stores_df.isnull().sum()"
   ]
  },
  {
   "cell_type": "code",
   "execution_count": 17,
   "id": "81d222d1-2a04-4c87-890e-18ec2c35e90d",
   "metadata": {},
   "outputs": [],
   "source": [
    "# Create copies of original DataFrames for cleaning"
   ]
  },
  {
   "cell_type": "code",
   "execution_count": 40,
   "id": "3c02fcc8-a625-48fb-ae0b-23c6f3b1f0be",
   "metadata": {},
   "outputs": [
    {
     "name": "stdout",
     "output_type": "stream",
     "text": [
      "<class 'pandas.core.frame.DataFrame'>\n",
      "RangeIndex: 30 entries, 0 to 29\n",
      "Data columns (total 8 columns):\n",
      " #   Column        Non-Null Count  Dtype  \n",
      "---  ------        --------------  -----  \n",
      " 0   product_id    30 non-null     int64  \n",
      " 1   product_name  30 non-null     object \n",
      " 2   category      30 non-null     object \n",
      " 3   subcategory   30 non-null     object \n",
      " 4   brand         30 non-null     object \n",
      " 5   price         30 non-null     float64\n",
      " 6   cost          30 non-null     float64\n",
      " 7   weight        30 non-null     float64\n",
      "dtypes: float64(3), int64(1), object(4)\n",
      "memory usage: 2.0+ KB\n"
     ]
    },
    {
     "data": {
      "text/plain": [
       "product_id      0\n",
       "product_name    0\n",
       "category        0\n",
       "subcategory     0\n",
       "brand           0\n",
       "price           0\n",
       "cost            0\n",
       "weight          0\n",
       "dtype: int64"
      ]
     },
     "execution_count": 40,
     "metadata": {},
     "output_type": "execute_result"
    }
   ],
   "source": [
    "# For missing weight fill missing values with mean_weight\n",
    "\n",
    "products_df.describe()\n",
    "mean_weight = 3.835714\n",
    "products_df['weight'] = products_df['weight'].fillna(mean_weight)\n",
    "products_df.info()\n",
    "products_df.shape\n",
    "products_df.isnull().sum()"
   ]
  },
  {
   "cell_type": "code",
   "execution_count": 39,
   "id": "7eaaddb3-a272-40d2-bc24-7665a05f1e7b",
   "metadata": {},
   "outputs": [
    {
     "name": "stdout",
     "output_type": "stream",
     "text": [
      "<class 'pandas.core.frame.DataFrame'>\n",
      "RangeIndex: 75 entries, 0 to 74\n",
      "Data columns (total 6 columns):\n",
      " #   Column             Non-Null Count  Dtype  \n",
      "---  ------             --------------  -----  \n",
      " 0   inventory_id       75 non-null     int64  \n",
      " 1   store_id           75 non-null     int64  \n",
      " 2   product_id         75 non-null     int64  \n",
      " 3   quantity_in_stock  75 non-null     int64  \n",
      " 4   last_restock_date  75 non-null     object \n",
      " 5   reorder_level      75 non-null     float64\n",
      "dtypes: float64(1), int64(4), object(1)\n",
      "memory usage: 3.6+ KB\n"
     ]
    },
    {
     "data": {
      "text/plain": [
       "inventory_id         0\n",
       "store_id             0\n",
       "product_id           0\n",
       "quantity_in_stock    0\n",
       "last_restock_date    0\n",
       "reorder_level        0\n",
       "dtype: int64"
      ]
     },
     "execution_count": 39,
     "metadata": {},
     "output_type": "execute_result"
    }
   ],
   "source": [
    "# For missing reorder_level fill missing values with mean value \n",
    "inventory_df.describe()\n",
    "mean_value = 12.681159\n",
    "inventory_df['reorder_level'] = inventory_df['reorder_level'].fillna(mean_value)\n",
    "inventory_df.info()\n",
    "inventory_df.shape\n",
    "inventory_df.isnull().sum()"
   ]
  },
  {
   "cell_type": "code",
   "execution_count": 47,
   "id": "337ca623-eebd-4674-98f0-066f2cb2854f",
   "metadata": {},
   "outputs": [
    {
     "name": "stdout",
     "output_type": "stream",
     "text": [
      "<class 'pandas.core.frame.DataFrame'>\n",
      "RangeIndex: 31 entries, 0 to 30\n",
      "Data columns (total 10 columns):\n",
      " #   Column             Non-Null Count  Dtype \n",
      "---  ------             --------------  ----- \n",
      " 0   customer_id        31 non-null     int64 \n",
      " 1   first_name         31 non-null     object\n",
      " 2   last_name          31 non-null     object\n",
      " 3   email              31 non-null     object\n",
      " 4   phone              31 non-null     object\n",
      " 5   address            31 non-null     object\n",
      " 6   city               31 non-null     object\n",
      " 7   state              31 non-null     object\n",
      " 8   zip_code           31 non-null     object\n",
      " 9   registration_date  31 non-null     object\n",
      "dtypes: int64(1), object(9)\n",
      "memory usage: 2.6+ KB\n",
      "<class 'pandas.core.frame.DataFrame'>\n",
      "RangeIndex: 75 entries, 0 to 74\n",
      "Data columns (total 6 columns):\n",
      " #   Column             Non-Null Count  Dtype  \n",
      "---  ------             --------------  -----  \n",
      " 0   inventory_id       75 non-null     int64  \n",
      " 1   store_id           75 non-null     int64  \n",
      " 2   product_id         75 non-null     int64  \n",
      " 3   quantity_in_stock  75 non-null     int64  \n",
      " 4   last_restock_date  75 non-null     object \n",
      " 5   reorder_level      75 non-null     float64\n",
      "dtypes: float64(1), int64(4), object(1)\n",
      "memory usage: 3.6+ KB\n",
      "<class 'pandas.core.frame.DataFrame'>\n",
      "RangeIndex: 15 entries, 0 to 14\n",
      "Data columns (total 9 columns):\n",
      " #   Column        Non-Null Count  Dtype  \n",
      "---  ------        --------------  -----  \n",
      " 0   store_id      15 non-null     int64  \n",
      " 1   store_name    15 non-null     object \n",
      " 2   address       15 non-null     object \n",
      " 3   city          15 non-null     object \n",
      " 4   state         15 non-null     object \n",
      " 5   zip_code      15 non-null     object \n",
      " 6   region        15 non-null     object \n",
      " 7   size_sqft     15 non-null     float64\n",
      " 8   opening_date  15 non-null     object \n",
      "dtypes: float64(1), int64(1), object(7)\n",
      "memory usage: 1.2+ KB\n",
      "<class 'pandas.core.frame.DataFrame'>\n",
      "RangeIndex: 40 entries, 0 to 39\n",
      "Data columns (total 8 columns):\n",
      " #   Column          Non-Null Count  Dtype  \n",
      "---  ------          --------------  -----  \n",
      " 0   sale_id         40 non-null     int64  \n",
      " 1   date            40 non-null     object \n",
      " 2   store_id        40 non-null     int64  \n",
      " 3   customer_id     40 non-null     int64  \n",
      " 4   product_id      40 non-null     int64  \n",
      " 5   quantity        40 non-null     int64  \n",
      " 6   total           40 non-null     float64\n",
      " 7   payment_method  40 non-null     object \n",
      "dtypes: float64(1), int64(5), object(2)\n",
      "memory usage: 2.6+ KB\n"
     ]
    }
   ],
   "source": [
    "# For date columns with date missing values, use forward fill or backward fill as appropriate\n",
    "# I used the forward fill \n",
    "customers_df['registration_date'] = customers_df['registration_date'].ffill()\n",
    "inventory_df['last_restock_date'] = inventory_df['last_restock_date'].ffill()\n",
    "stores_df['opening_date'] = stores_df['opening_date'].ffill()\n",
    "sales_df['date'] = sales_df['date'].ffill() \n",
    "customers_df.info()\n",
    "inventory_df.info()\n",
    "stores_df.info()\n",
    "sales_df.info()"
   ]
  },
  {
   "cell_type": "code",
   "execution_count": 48,
   "id": "01d0e400-7c27-41f2-8a6c-b8bd411bbaaf",
   "metadata": {},
   "outputs": [
    {
     "name": "stdout",
     "output_type": "stream",
     "text": [
      "<class 'pandas.core.frame.DataFrame'>\n",
      "RangeIndex: 40 entries, 0 to 39\n",
      "Data columns (total 8 columns):\n",
      " #   Column          Non-Null Count  Dtype  \n",
      "---  ------          --------------  -----  \n",
      " 0   sale_id         40 non-null     int64  \n",
      " 1   date            40 non-null     object \n",
      " 2   store_id        40 non-null     int64  \n",
      " 3   customer_id     40 non-null     int64  \n",
      " 4   product_id      40 non-null     int64  \n",
      " 5   quantity        40 non-null     int64  \n",
      " 6   total           40 non-null     float64\n",
      " 7   payment_method  40 non-null     object \n",
      "dtypes: float64(1), int64(5), object(2)\n",
      "memory usage: 2.6+ KB\n"
     ]
    },
    {
     "data": {
      "text/plain": [
       "sale_id           0\n",
       "date              0\n",
       "store_id          0\n",
       "customer_id       0\n",
       "product_id        0\n",
       "quantity          0\n",
       "total             0\n",
       "payment_method    0\n",
       "dtype: int64"
      ]
     },
     "execution_count": 48,
     "metadata": {},
     "output_type": "execute_result"
    }
   ],
   "source": [
    "# For categorical columns with missing values, replace them with the most frequent value\n",
    "# For payment_method in sales fill missing valeus with mist frequent value \n",
    "frequent_value = 8\n",
    "sales_df['payment_method'] = sales_df['payment_method'].fillna(frequent_value)\n",
    "sales_df['store_id'] = sales_df['store_id'].fillna(-1)\n",
    "sales_df.info()\n",
    "sales_df.shape\n",
    "sales_df.isnull().sum()"
   ]
  },
  {
   "cell_type": "code",
   "execution_count": 35,
   "id": "cdb2b949-fb09-4789-894c-561a860e1802",
   "metadata": {},
   "outputs": [],
   "source": [
    "# For missing email in customers table \n",
    "customers_df['email'] = customers_df['email'].fillna('missing@email.com')\n",
    "customers_df['zip_code'] = customers_df['zip_code'].fillna('00000')\n",
    "customers_df['phone'] = customers_df['phone'].fillna('000 000 0000')"
   ]
  },
  {
   "cell_type": "code",
   "execution_count": 37,
   "id": "5af06195-b6a1-46e3-a2f8-2965a9df4e8a",
   "metadata": {},
   "outputs": [
    {
     "name": "stdout",
     "output_type": "stream",
     "text": [
      "<class 'pandas.core.frame.DataFrame'>\n",
      "RangeIndex: 31 entries, 0 to 30\n",
      "Data columns (total 10 columns):\n",
      " #   Column             Non-Null Count  Dtype \n",
      "---  ------             --------------  ----- \n",
      " 0   customer_id        31 non-null     int64 \n",
      " 1   first_name         31 non-null     object\n",
      " 2   last_name          31 non-null     object\n",
      " 3   email              31 non-null     object\n",
      " 4   phone              31 non-null     object\n",
      " 5   address            31 non-null     object\n",
      " 6   city               31 non-null     object\n",
      " 7   state              31 non-null     object\n",
      " 8   zip_code           31 non-null     object\n",
      " 9   registration_date  31 non-null     object\n",
      "dtypes: int64(1), object(9)\n",
      "memory usage: 2.6+ KB\n"
     ]
    },
    {
     "data": {
      "text/plain": [
       "(31, 10)"
      ]
     },
     "execution_count": 37,
     "metadata": {},
     "output_type": "execute_result"
    }
   ],
   "source": [
    "customers_df.info()\n",
    "customers_df.shape"
   ]
  },
  {
   "cell_type": "code",
   "execution_count": 49,
   "id": "ee99b981-3e3a-4953-960e-01b3f13517c3",
   "metadata": {},
   "outputs": [
    {
     "data": {
      "text/plain": [
       "0     False\n",
       "1     False\n",
       "2     False\n",
       "3     False\n",
       "4     False\n",
       "5     False\n",
       "6     False\n",
       "7     False\n",
       "8     False\n",
       "9     False\n",
       "10    False\n",
       "11    False\n",
       "12    False\n",
       "13    False\n",
       "14    False\n",
       "15    False\n",
       "16    False\n",
       "17    False\n",
       "18    False\n",
       "19    False\n",
       "20    False\n",
       "21    False\n",
       "22    False\n",
       "23    False\n",
       "24    False\n",
       "25    False\n",
       "26    False\n",
       "27    False\n",
       "28    False\n",
       "29    False\n",
       "dtype: bool"
      ]
     },
     "execution_count": 49,
     "metadata": {},
     "output_type": "execute_result"
    }
   ],
   "source": [
    "# Removing Duplicates:\n",
    "# Check for and remove any duplicate entries in the customers and products dataframes\n",
    "# Explain your approach for identifying duplicates\n",
    "products_df.duplicated()"
   ]
  },
  {
   "cell_type": "code",
   "execution_count": 50,
   "id": "0c5936b1-b7e1-4bc7-bac6-6cae971d1aeb",
   "metadata": {},
   "outputs": [
    {
     "data": {
      "text/plain": [
       "0     False\n",
       "1     False\n",
       "2     False\n",
       "3     False\n",
       "4     False\n",
       "5     False\n",
       "6     False\n",
       "7     False\n",
       "8     False\n",
       "9     False\n",
       "10    False\n",
       "11    False\n",
       "12    False\n",
       "13    False\n",
       "14    False\n",
       "15    False\n",
       "16    False\n",
       "17    False\n",
       "18    False\n",
       "19    False\n",
       "20    False\n",
       "21    False\n",
       "22    False\n",
       "23    False\n",
       "24    False\n",
       "25    False\n",
       "26    False\n",
       "27    False\n",
       "28    False\n",
       "29    False\n",
       "30    False\n",
       "dtype: bool"
      ]
     },
     "execution_count": 50,
     "metadata": {},
     "output_type": "execute_result"
    }
   ],
   "source": [
    "customers_df.duplicated()"
   ]
  },
  {
   "cell_type": "markdown",
   "id": "c76845d7-66cd-4f8a-9960-be6c9d400656",
   "metadata": {},
   "source": [
    "#### Discussion Questions\n",
    "#### 1. What are the key advantages of using Pandas for data cleaning compared to other methods?\n",
    "#### Pandas automatically aligns data based on indices, reducing errors when combining datasets.\n",
    "#### 2. How would your approach to handling missing values differ if the missing data was not random but had a pattern or meaning?\n",
    "#### Fill missing values using group-based statistics for example uding the median to replace the missing data\n",
    "#### 3. What types of data quality issues might not be immediately visible through simple DataFrame inspection methods?\n",
    "#### Subtle inconsistencies like different units that include date formats, capitalization in categorical variables.\n",
    "#### 4. How would you document your data cleaning process to ensure reproducibility?\n",
    "#### Use notebooks or scripts with clear comments for each cleaning operation to ensure reproducibility.\n",
    "#### 5. In what scenarios might it be better to remove rows with missing values rather than imputing them?\n",
    "#### Removing rows might ne better if only a tiny fraction of rows is missing values, deletion may be simpler and less risky."
   ]
  },
  {
   "cell_type": "code",
   "execution_count": null,
   "id": "95303f31-a171-4836-a09c-54230aee7b25",
   "metadata": {},
   "outputs": [],
   "source": []
  }
 ],
 "metadata": {
  "kernelspec": {
   "display_name": "Python [conda env:base] *",
   "language": "python",
   "name": "conda-base-py"
  },
  "language_info": {
   "codemirror_mode": {
    "name": "ipython",
    "version": 3
   },
   "file_extension": ".py",
   "mimetype": "text/x-python",
   "name": "python",
   "nbconvert_exporter": "python",
   "pygments_lexer": "ipython3",
   "version": "3.13.5"
  }
 },
 "nbformat": 4,
 "nbformat_minor": 5
}
