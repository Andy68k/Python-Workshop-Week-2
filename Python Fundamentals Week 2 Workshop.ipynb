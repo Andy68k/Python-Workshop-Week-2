{
 "cells": [
  {
   "cell_type": "markdown",
   "id": "eeca4a82-36bc-43b6-ab49-594613323924",
   "metadata": {},
   "source": [
    "#### Andrew S Ntale\n",
    "#### August 12, 2025\n",
    "#### Python Fundamentals Workshop Week 2."
   ]
  },
  {
   "cell_type": "code",
   "execution_count": null,
   "id": "256399db-1146-4d4a-8eaa-7ae7968a9f98",
   "metadata": {},
   "outputs": [],
   "source": [
    "#### Part 1 Conditional Statements\n",
    "### Basic If statement \n",
    "#### lets check if a number is positive, negative, or zero\n",
    "## number = 5 try changing this value"
   ]
  },
  {
   "cell_type": "code",
   "execution_count": 4,
   "id": "e302b84c-ae58-4f4e-b056-10f3f02dbdad",
   "metadata": {},
   "outputs": [
    {
     "name": "stdout",
     "output_type": "stream",
     "text": [
      "10 is positive\n"
     ]
    }
   ],
   "source": [
    "number = 10\n",
    "if number > 0:\n",
    "    print(f\"{number} is positive\")\n",
    "elif number < 0:\n",
    "    print(f\"{number} is negative\")\n",
    "else: \n",
    "    print(f\"{number} is zero\")"
   ]
  },
  {
   "cell_type": "code",
   "execution_count": 9,
   "id": "2f735753-36d0-4ee1-94e1-53d60e58337e",
   "metadata": {},
   "outputs": [
    {
     "name": "stdout",
     "output_type": "stream",
     "text": [
      "score: 95, Grade: A\n",
      "score: 82, Grade: B\n",
      "score: 71, Grade: C\n",
      "score: 65, Grade: D\n",
      "score: 55, Grade: F\n"
     ]
    }
   ],
   "source": [
    "### Exercise 1: Grade Calculator \n",
    "# Write a program that converts a number grade to a letter grade \n",
    "# 90-100: A\n",
    "# 80-89: B\n",
    "# 70-79: C\n",
    "# 60-69: D\n",
    "# Below 60: F\n",
    "\n",
    "\n",
    "\n",
    "def calculate_grade(score):\n",
    "    #my code here\n",
    "\n",
    " if score >= 90:\n",
    "    return \"A\"\n",
    " elif score >= 80:\n",
    "    return \"B\"\n",
    " elif score >= 70:\n",
    "    return \"C\"\n",
    " elif score >= 60:\n",
    "    return \"D\"\n",
    " else:\n",
    "    return \"F\"\n",
    "     \n",
    "# test my function\n",
    "test_scores = [95, 82, 71, 65, 55]\n",
    "for score in test_scores: \n",
    "    print(f\"score: {score}, Grade: {calculate_grade(score)}\")"
   ]
  },
  {
   "cell_type": "code",
   "execution_count": 24,
   "id": "bb3c2b1f-3d2e-48e9-9bcf-79f01767c3fa",
   "metadata": {},
   "outputs": [
    {
     "name": "stdout",
     "output_type": "stream",
     "text": [
      "Original price: $50, Final price: $50.00\n",
      "Original price: $150, Final price: $135.00\n",
      "Original price: $600, Final price: $480.00\n",
      "Original price: $1200, Final price: $840.00\n"
     ]
    }
   ],
   "source": [
    "### Exercise 2: Discount Calculator\n",
    "# Write a function that calculates the final price after applying a discount\n",
    "# If the purchase amount is $100 or more, apply a 10% discount\n",
    "# If the purchase amount is $500 or more, apply a 20% discount\n",
    "# If the purchase amount is $1000 or more, apply a 30% discount\n",
    "\n",
    "def calculate_discount(purchase_amount):\n",
    "    # my code here\n",
    "    if purchase_amount >= 1000:\n",
    "        return purchase_amount * 0.7\n",
    "    elif purchase_amount >= 500:\n",
    "        return purchase_amount * 0.8\n",
    "    elif purchase_amount >= 100:\n",
    "        return purchase_amount * 0.9\n",
    "    else:\n",
    "        return purchase_amount \n",
    "   \n",
    "\n",
    "# Test your function\n",
    "purchase_amounts = [50, 150, 600, 1200]\n",
    "for amount in purchase_amounts:\n",
    "    print(f\"Original price: ${amount}, Final price: ${calculate_discount(amount):.2f}\")"
   ]
  },
  {
   "cell_type": "code",
   "execution_count": 22,
   "id": "945090c8-c011-4042-98d2-73c13c3ada7e",
   "metadata": {},
   "outputs": [
    {
     "name": "stdout",
     "output_type": "stream",
     "text": [
      "Hello, Andrew Solomon!\n"
     ]
    }
   ],
   "source": [
    "## Part 2: Functions\n",
    "### Basic function definition\n",
    "\n",
    "def greet(name):\n",
    "    \"\"\"A simple function that greets a person by name\"\"\"\n",
    "    return f\"Hello, {name}!\"\n",
    "\n",
    "# Call the function\n",
    "print(greet(\"Andrew Solomon\"))"
   ]
  },
  {
   "cell_type": "code",
   "execution_count": 28,
   "id": "18d4f3b6-ca6d-434a-98f7-6da4b66c14ff",
   "metadata": {},
   "outputs": [
    {
     "name": "stdout",
     "output_type": "stream",
     "text": [
      "0°C = 32.0°F\n",
      "25°C = 77.0°F\n",
      "37°C = 98.6°F\n",
      "100°C = 212.0°F\n"
     ]
    }
   ],
   "source": [
    "### Exercise 3: Temperature Converter\n",
    "# Write a function that converts temperature from Celsius to Fahrenheit\n",
    "# Formula: F = C * 9/5 + 32\n",
    "\n",
    "def celsius_to_fahrenheit(celsius):\n",
    "    # my code here\n",
    "    fahrenheit = celsius * 9/5 + 32\n",
    "    return fahrenheit \n",
    "\n",
    "# Test your function\n",
    "temperatures_c = [0, 25, 37, 100]\n",
    "for temp in temperatures_c:\n",
    "    print(f\"{temp}°C = {celsius_to_fahrenheit(temp):.1f}°F\")"
   ]
  },
  {
   "cell_type": "code",
   "execution_count": 29,
   "id": "78f81cd8-5a7d-4d2c-8cf6-2f5c0e6989b2",
   "metadata": {},
   "outputs": [
    {
     "name": "stdout",
     "output_type": "stream",
     "text": [
      "15\n",
      "5\n",
      "50\n",
      "2.0\n",
      "Error: Division by zero\n"
     ]
    }
   ],
   "source": [
    "### Exercise 4: Calculator Function\n",
    "# Write a function that takes two numbers and an operation as parameters\n",
    "# Supported operations: add, subtract, multiply, divide\n",
    "# Return the result of the operation\n",
    "\n",
    "def calculator(num1, num2, operation):\n",
    "    # my code here\n",
    "    if operation == \"add\":\n",
    "        return num1 + num2\n",
    "    elif operation == \"subtract\":\n",
    "        return num1 - num2\n",
    "    elif operation == \"multiply\":\n",
    "        return num1 * num2\n",
    "    elif operation == \"divide\":\n",
    "        if num2 == 0:\n",
    "            return \"Error: Division by zero\"\n",
    "        return num1 / num2 \n",
    "    else:\n",
    "        return \"Error: Unknown oepration\"\n",
    "        \n",
    "    \n",
    "    \n",
    "\n",
    "# Test your function\n",
    "print(calculator(10, 5, \"add\"))      # Should return 15\n",
    "print(calculator(10, 5, \"subtract\")) # Should return 5\n",
    "print(calculator(10, 5, \"multiply\")) # Should return 50\n",
    "print(calculator(10, 5, \"divide\"))   # Should return 2\n",
    "print(calculator(10, 0, \"divide\"))   # Should return an error"
   ]
  },
  {
   "cell_type": "code",
   "execution_count": 30,
   "id": "7e665d9b-d1fa-49c2-a20c-630fbf493451",
   "metadata": {},
   "outputs": [
    {
     "name": "stdout",
     "output_type": "stream",
     "text": [
      "Original lists: ['apple', 'banana', 'cherry', 'date']\n"
     ]
    }
   ],
   "source": [
    "## Part 3 : Lists\n",
    "\n",
    "### Basic list Operations \n",
    "fruits = [ \"apple\", \"banana\", \"cherry\", \"date\"]\n",
    "print(\"Original lists:\", fruits)"
   ]
  },
  {
   "cell_type": "code",
   "execution_count": 32,
   "id": "f7188ed8-f8d5-46db-b871-1a76ba81ef2e",
   "metadata": {},
   "outputs": [
    {
     "name": "stdout",
     "output_type": "stream",
     "text": [
      "First fruit: apple\n",
      "Last fruit: date\n"
     ]
    }
   ],
   "source": [
    "### Accessing elements \n",
    "print(\"First fruit:\", fruits[0])\n",
    "print(\"Last fruit:\", fruits[-1])"
   ]
  },
  {
   "cell_type": "code",
   "execution_count": 2,
   "id": "d2f33053-5f56-4223-ab39-242149256379",
   "metadata": {},
   "outputs": [
    {
     "name": "stdout",
     "output_type": "stream",
     "text": [
      "After modification: ['apple', 'blueberry', 'cherry', 'date']\n"
     ]
    }
   ],
   "source": [
    "### Modfying the list\n",
    "fruits = [\"apple\", \"banana\", \"cherry\", \"date\"]\n",
    "fruits[1] = \"blueberry\"\n",
    "print(\"After modification:\", fruits)"
   ]
  },
  {
   "cell_type": "code",
   "execution_count": 3,
   "id": "947af517-a62f-4b6d-826a-4936569cfefe",
   "metadata": {},
   "outputs": [
    {
     "name": "stdout",
     "output_type": "stream",
     "text": [
      "After append: ['apple', 'blueberry', 'cherry', 'date', 'elderberry']\n"
     ]
    }
   ],
   "source": [
    "### Adding elements \n",
    "fruits.append(\"elderberry\")\n",
    "print(\"After append:\", fruits)"
   ]
  },
  {
   "cell_type": "code",
   "execution_count": 6,
   "id": "b4c00de2-48f3-4583-b88a-b37920008e74",
   "metadata": {},
   "outputs": [
    {
     "name": "stdout",
     "output_type": "stream",
     "text": [
      "Removed apple, List now: ['blueberry', 'cherry', 'date', 'elderberry']\n"
     ]
    }
   ],
   "source": [
    "### Removing elements\n",
    "removed_fruit = fruits.pop(0)\n",
    "print(f\"Removed {removed_fruit}, List now:\", fruits) "
   ]
  },
  {
   "cell_type": "code",
   "execution_count": 10,
   "id": "ddb5454c-996d-4b83-b9bd-0fb78f82bb9d",
   "metadata": {},
   "outputs": [
    {
     "name": "stdout",
     "output_type": "stream",
     "text": [
      "Statistics: {'min': 5, 'max': 42, 'sum': 106, 'average': 17.666666666666668}\n"
     ]
    }
   ],
   "source": [
    "### Exercise 5: List Statistics\n",
    "# Write a function that takes a list of numbers and returns a dictionary with:\n",
    "# - The minimum value\n",
    "# - The maximum value\n",
    "# - The average value\n",
    "# - The sum of all values\n",
    "\n",
    "def calculate_statistics(numbers):\n",
    "    stats = {}\n",
    "    stats[\"min\"] = min(numbers)\n",
    "    stats[\"max\"] = max(numbers)\n",
    "    stats[\"sum\"] = sum(numbers)\n",
    "    stats[\"average\"] = stats[\"sum\"] / len(numbers)\n",
    "    \n",
    "    \n",
    "    return stats\n",
    "    \n",
    "\n",
    "# Test your function\n",
    "test_numbers = [5, 12, 8, 42, 23, 16]\n",
    "stats = calculate_statistics(test_numbers)\n",
    "print(\"Statistics:\", stats)"
   ]
  },
  {
   "cell_type": "code",
   "execution_count": 11,
   "id": "3279b7bb-edc6-4d3a-93cc-a84d408e9ae8",
   "metadata": {},
   "outputs": [
    {
     "name": "stdout",
     "output_type": "stream",
     "text": [
      "Even numbers: [2, 4, 6, 8, 10]\n"
     ]
    }
   ],
   "source": [
    "### Exercise 6: List Filtering\n",
    "# Write a function that takes a list of numbers and returns a new list containing only even numbers\n",
    "\n",
    "def filter_even_numbers(numbers):\n",
    "    even_list =[]\n",
    "    for num in numbers:\n",
    "        if num % 2 == 0:\n",
    "            even_list.append(num)\n",
    "    return even_list\n",
    "    \n",
    "   \n",
    "\n",
    "# Test your function\n",
    "numbers = [1, 2, 3, 4, 5, 6, 7, 8, 9, 10]\n",
    "even_numbers = filter_even_numbers(numbers)\n",
    "print(\"Even numbers:\", even_numbers)"
   ]
  },
  {
   "cell_type": "code",
   "execution_count": 12,
   "id": "2055de73-9c40-4a8f-81f3-951ef6a5eac3",
   "metadata": {},
   "outputs": [
    {
     "name": "stdout",
     "output_type": "stream",
     "text": [
      "Student info: {'name': 'Alex', 'age': 23, 'major': 'Data Science', 'gpa': 3.8}\n",
      "Name: Alex\n",
      "Major: Data Science\n",
      "Updated student info: {'name': 'Alex', 'age': 23, 'major': 'Data Science', 'gpa': 3.9, 'year': 'Senior'}\n",
      "Removed age: 23, Student info now: {'name': 'Alex', 'major': 'Data Science', 'gpa': 3.9, 'year': 'Senior'}\n"
     ]
    }
   ],
   "source": [
    "## Part 4: Dictionaries\n",
    "### Basic dictionary operations\n",
    "student = {\n",
    "    \"name\": \"Alex\",\n",
    "    \"age\": 23,\n",
    "    \"major\": \"Data Science\",\n",
    "    \"gpa\": 3.8\n",
    "}\n",
    "\n",
    "print(\"Student info:\", student)\n",
    "\n",
    "# Accessing values\n",
    "print(\"Name:\", student[\"name\"])\n",
    "print(\"Major:\", student.get(\"major\"))\n",
    "\n",
    "# Adding or modifying key-value pairs\n",
    "student[\"year\"] = \"Senior\"\n",
    "student[\"gpa\"] = 3.9\n",
    "print(\"Updated student info:\", student)\n",
    "\n",
    "# Removing key-value pairs\n",
    "removed_age = student.pop(\"age\")\n",
    "print(f\"Removed age: {removed_age}, Student info now:\", student)"
   ]
  },
  {
   "cell_type": "code",
   "execution_count": 16,
   "id": "35edb42e-8176-4d29-a4c8-877dd0cc0834",
   "metadata": {},
   "outputs": [
    {
     "name": "stdout",
     "output_type": "stream",
     "text": [
      "Word counts: {'the': 4, 'quick': 2, 'brown': 1, 'fox': 2, 'jumps': 1, 'over': 1, 'lazy': 2, 'dog': 2, 'was': 2, 'and': 1}\n"
     ]
    }
   ],
   "source": [
    "### Exercise 7: Word Counter\n",
    "# Write a function that takes a string and returns a dictionary with each word as a key\n",
    "# and the number of occurrences as the value\n",
    "\n",
    "def count_words(text):\n",
    "    text = text.lower().replace(\".\",\"\")\n",
    "    separate_words = text.split()\n",
    "    word_count = {}\n",
    "    for word in separate_words :\n",
    "        if word in word_count:\n",
    "            word_count[word] = word_count[word] + 1\n",
    "        else:\n",
    "            word_count[word] = 1\n",
    "    return word_count \n",
    "    \n",
    "  \n",
    "    \n",
    "    return word_count\n",
    "\n",
    "# Test your function\n",
    "sample_text = \"The quick brown fox jumps over the lazy dog. The fox was quick and the dog was lazy.\"\n",
    "word_counts = count_words(sample_text)\n",
    "print(\"Word counts:\", word_counts)"
   ]
  },
  {
   "cell_type": "code",
   "execution_count": 26,
   "id": "a7a5c1c1-16eb-4d65-82d0-a46f8ba4ae74",
   "metadata": {},
   "outputs": [
    {
     "name": "stdout",
     "output_type": "stream",
     "text": [
      "contact Alice added successfully\n",
      "contact Bob added successfully\n",
      "{'phone': '555-1234', 'email': 'alice@example.com'}\n",
      "contact Alice updated successfully\n",
      "{'phone': '555-1234', 'email': 'alice.new@example.com'}\n",
      "Contact Charlie not found\n"
     ]
    }
   ],
   "source": [
    "### Exercise 8: Contact Manager\n",
    "# Create a small contact manager that lets you add, update, and retrieve contact information\n",
    "\n",
    "contact_book = {}\n",
    "\n",
    "def add_contact(name, phone, email=None):\n",
    "    if name in contact_book:\n",
    "     return f\"contact {name} already exits\"\n",
    "\n",
    "    # new contact entry\n",
    "    contact_book[name] = {\"phone\": phone}\n",
    "    if email:\n",
    "        contact_book[name][\"email\"] = email\n",
    "\n",
    "    return f\"contact {name} added successfully\"\n",
    "    \n",
    "\n",
    "def update_contact(name, phone=None, email=None):\n",
    "    if name not in contact_book:\n",
    "     return f\"contact {name} not found\"\n",
    "\n",
    "  # update phone if provided \n",
    "    if phone:\n",
    "      contact_book[name][\"phone\"] = phone\n",
    "\n",
    "  # updated email if provided \n",
    "    if email:\n",
    "       contact_book[name][\"email\"] = email\n",
    "\n",
    "    return f\"contact {name} updated successfully\"    \n",
    "    \n",
    "\n",
    "def get_contact(name):\n",
    "    return contact_book.get(name, f\"Contact {name} not found\")\n",
    "\n",
    "# Test your contact manager\n",
    "print(add_contact(\"Alice\", \"555-1234\", \"alice@example.com\"))\n",
    "print(add_contact(\"Bob\", \"555-5678\"))\n",
    "print(get_contact(\"Alice\"))\n",
    "print(update_contact(\"Alice\", email=\"alice.new@example.com\"))\n",
    "print(get_contact(\"Alice\"))\n",
    "print(get_contact(\"Charlie\"))"
   ]
  },
  {
   "cell_type": "code",
   "execution_count": 27,
   "id": "8346b564-a3a8-4178-8b3e-10554a2552d1",
   "metadata": {},
   "outputs": [
    {
     "name": "stdout",
     "output_type": "stream",
     "text": [
      "Iterating through a list:\n",
      "Color: red\n",
      "Color: green\n",
      "Color: blue\n",
      "Color: yellow\n",
      "\n",
      "Using range():\n",
      "Number: 0\n",
      "Number: 1\n",
      "Number: 2\n",
      "Number: 3\n",
      "Number: 4\n",
      "\n",
      "Using a while loop:\n",
      "Count: 0\n",
      "Count: 1\n",
      "Count: 2\n",
      "Count: 3\n",
      "Count: 4\n"
     ]
    }
   ],
   "source": [
    "## Part 5: Loops\n",
    "### For loop with a list\n",
    "print(\"Iterating through a list:\")\n",
    "colors = [\"red\", \"green\", \"blue\", \"yellow\"]\n",
    "for color in colors:\n",
    "    print(f\"Color: {color}\")\n",
    "\n",
    "### For loop with range\n",
    "print(\"\\nUsing range():\")\n",
    "for i in range(5):\n",
    "    print(f\"Number: {i}\")\n",
    "\n",
    "### While loop\n",
    "print(\"\\nUsing a while loop:\")\n",
    "count = 0\n",
    "while count < 5:\n",
    "    print(f\"Count: {count}\")\n",
    "    count += 1"
   ]
  },
  {
   "cell_type": "code",
   "execution_count": 29,
   "id": "e7eb00c0-df7f-4463-8b4b-61753a7dc8b5",
   "metadata": {},
   "outputs": [
    {
     "name": "stdout",
     "output_type": "stream",
     "text": [
      "Factorial of 0 = 1\n",
      "Factorial of 1 = 1\n",
      "Factorial of 2 = 2\n",
      "Factorial of 3 = 6\n",
      "Factorial of 4 = 24\n",
      "Factorial of 5 = 120\n"
     ]
    }
   ],
   "source": [
    "### Exercise 9: Factorial Calculator\n",
    "# Write a function that calculates the factorial of a number using a loop\n",
    "# Factorial of n = n * (n-1) * (n-2) * ... * 1\n",
    "\n",
    "def factorial(n):\n",
    "    result = 1\n",
    "    for count in range(1, n + 1):\n",
    "        result = result * count \n",
    "    return result\n",
    "    \n",
    "\n",
    "# Test your function\n",
    "for num in range(6):\n",
    "    print(f\"Factorial of {num} = {factorial(num)}\")"
   ]
  },
  {
   "cell_type": "code",
   "execution_count": 7,
   "id": "594946b9-c051-48e6-b046-27836614f444",
   "metadata": {},
   "outputs": [
    {
     "name": "stdout",
     "output_type": "stream",
     "text": [
      "\n",
      "Student Analysis:\n",
      "Individual Averages:\n",
      "  Alice: 90.00\n",
      "  Bob: 86.50\n",
      "  Charlie: 94.00\n",
      "  David: 85.75\n",
      "Top Student: Charlie with average of 94.00\n"
     ]
    }
   ],
   "source": [
    "### Exercise 10: Data Analysis\n",
    "# You're given a list of dictionaries, each representing a student's score on different tests.\n",
    "# Calculate the average score for each student and identify the student with the highest average.\n",
    "\n",
    "students_data = [\n",
    "    {\"name\": \"Alice\", \"scores\": [88, 92, 95, 85]},\n",
    "    {\"name\": \"Bob\", \"scores\": [90, 87, 88, 81]},\n",
    "    {\"name\": \"Charlie\", \"scores\": [92, 95, 96, 93]},\n",
    "    {\"name\": \"David\", \"scores\": [78, 85, 91, 89]}\n",
    "]\n",
    "\n",
    "def analyze_student_scores(students):\n",
    "    results = {}\n",
    "    highest_avg = 0\n",
    "    top_student = None \n",
    "\n",
    "\n",
    "    for student in students:\n",
    "        name = student[\"name\"]\n",
    "        scores = student[\"scores\"]\n",
    "        avg_score = sum(scores) / len(scores)\n",
    "        results[name] = avg_score\n",
    "\n",
    "        if avg_score > highest_avg:\n",
    "            highest_avg = avg_score\n",
    "            top_student = name \n",
    "\n",
    "    return  {\n",
    "        \"individual_averages\": results,\n",
    "        \"top_student\": top_student,\n",
    "        \"top_average\": highest_avg\n",
    "    }   \n",
    "    \n",
    "\n",
    "\n",
    "# Test your function\n",
    "analysis = analyze_student_scores(students_data)\n",
    "print(\"\\nStudent Analysis:\")\n",
    "print(\"Individual Averages:\")\n",
    "for name,  avg in analysis[\"individual_averages\"].items():\n",
    "    print(f\"  {name}: {avg:.2f}\")\n",
    "print(f\"Top Student: {analysis['top_student']} with average of {analysis['top_average']:.2f}\")"
   ]
  },
  {
   "cell_type": "code",
   "execution_count": 5,
   "id": "4faa5def-4d9b-49a7-a410-dc7d1c4b7879",
   "metadata": {},
   "outputs": [
    {
     "name": "stdout",
     "output_type": "stream",
     "text": [
      "\n",
      "Sales Analysis:\n",
      "Monthly Sales:\n",
      "  Jan: $3030\n",
      "  Feb: $3420\n",
      "  Mar: $3580\n",
      "\n",
      "Category Sales:\n",
      "  Electronics: $4250\n",
      "  Books: $2550\n",
      "  Clothing: $3230\n",
      "\n",
      "Best Month: Mar with $3580\n",
      "Best Category: Electronics with $4250\n",
      "Total Sales: $10030\n"
     ]
    }
   ],
   "source": [
    "## Final Challenge: Sales Data Analysis\n",
    "\n",
    "# You're given a list of dictionaries representing monthly sales data for a store.\n",
    "# Each dictionary contains the month, category, and sales amount.\n",
    "\n",
    "sales_data = [\n",
    "    {\"month\": \"Jan\", \"category\": \"Electronics\", \"amount\": 1200},\n",
    "    {\"month\": \"Jan\", \"category\": \"Books\", \"amount\": 850},\n",
    "    {\"month\": \"Jan\", \"category\": \"Clothing\", \"amount\": 980},\n",
    "    {\"month\": \"Feb\", \"category\": \"Electronics\", \"amount\": 1450},\n",
    "    {\"month\": \"Feb\", \"category\": \"Books\", \"amount\": 920},\n",
    "    {\"month\": \"Feb\", \"category\": \"Clothing\", \"amount\": 1050},\n",
    "    {\"month\": \"Mar\", \"category\": \"Electronics\", \"amount\": 1600},\n",
    "    {\"month\": \"Mar\", \"category\": \"Books\", \"amount\": 780},\n",
    "    {\"month\": \"Mar\", \"category\": \"Clothing\", \"amount\": 1200}\n",
    "]\n",
    "\n",
    "def analyze_sales(sales):\n",
    "    # Step 1 Calculate total sales per month\n",
    "    monthly_sales = {}\n",
    "    for sale in sales:\n",
    "        month = sale[\"month\"]\n",
    "        amount = sale[\"amount\"]\n",
    "        if month in monthly_sales:\n",
    "           monthly_sales[month] += amount\n",
    "        else:\n",
    "            monthly_sales[month] = amount\n",
    "    \n",
    "    \n",
    "    # Step 2 Calculate total sales per category\n",
    "    category_sales = {}\n",
    "    for sale in sales: \n",
    "        category = sale[\"category\"]\n",
    "        amount = sale[\"amount\"]\n",
    "        if category in category_sales:\n",
    "            category_sales[category] += amount\n",
    "        else:\n",
    "            category_sales[category] = amount\n",
    "    \n",
    "    \n",
    "    \n",
    "    # Step 3 Find the best performing month and category\n",
    "    best_month = max(monthly_sales, key=monthly_sales.get)\n",
    "    best_category = max(category_sales, key=category_sales.get)\n",
    "        \n",
    "    # Step 4 Calculate overall total sales\n",
    "    total_sales = sum(sale[\"amount\"] for sale in sales)\n",
    "\n",
    "    return {\n",
    "        \"monthly_sales\": monthly_sales,\n",
    "        \"category_sales\": category_sales,\n",
    "        \"best_month\": best_month,\n",
    "        \"best_category\": best_category,\n",
    "        \"total_sales\": total_sales\n",
    "    }    \n",
    "\n",
    "    \n",
    "\n",
    "# test your analysis function\n",
    "sales_analysis = analyze_sales(sales_data)\n",
    "print(\"\\nSales Analysis:\")\n",
    "print(\"Monthly Sales:\")\n",
    "for month, amount in sales_analysis[\"monthly_sales\"].items():\n",
    "    print(f\"  {month}: ${amount}\")\n",
    "print(\"\\nCategory Sales:\")\n",
    "for category, amount in sales_analysis[\"category_sales\"].items():\n",
    "    print(f\"  {category}: ${amount}\")\n",
    "print(f\"\\nBest Month: {sales_analysis['best_month']} with ${sales_analysis['monthly_sales'][sales_analysis['best_month']]}\")\n",
    "print(f\"Best Category: {sales_analysis['best_category']} with ${sales_analysis['category_sales'][sales_analysis['best_category']]}\")\n",
    "print(f\"Total Sales: ${sales_analysis['total_sales']}\")"
   ]
  },
  {
   "cell_type": "code",
   "execution_count": null,
   "id": "8c409b1e-73cc-485b-ac51-51ef135d657b",
   "metadata": {},
   "outputs": [],
   "source": []
  }
 ],
 "metadata": {
  "kernelspec": {
   "display_name": "Python [conda env:base] *",
   "language": "python",
   "name": "conda-base-py"
  },
  "language_info": {
   "codemirror_mode": {
    "name": "ipython",
    "version": 3
   },
   "file_extension": ".py",
   "mimetype": "text/x-python",
   "name": "python",
   "nbconvert_exporter": "python",
   "pygments_lexer": "ipython3",
   "version": "3.13.5"
  }
 },
 "nbformat": 4,
 "nbformat_minor": 5
}
